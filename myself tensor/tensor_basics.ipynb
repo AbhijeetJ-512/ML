{
 "cells": [
  {
   "cell_type": "code",
   "execution_count": 1,
   "metadata": {},
   "outputs": [],
   "source": [
    "import tensorflow as tf"
   ]
  },
  {
   "cell_type": "code",
   "execution_count": 2,
   "metadata": {},
   "outputs": [
    {
     "name": "stdout",
     "output_type": "stream",
     "text": [
      "[PhysicalDevice(name='/physical_device:CPU:0', device_type='CPU')]\n"
     ]
    }
   ],
   "source": [
    "print(tf.config.list_physical_devices('CPU'))"
   ]
  },
  {
   "cell_type": "code",
   "execution_count": 3,
   "metadata": {},
   "outputs": [
    {
     "name": "stdout",
     "output_type": "stream",
     "text": [
      "tf.Tensor(2, shape=(), dtype=int32)\n",
      "tf.Tensor(\n",
      "[[4 4 4 4]\n",
      " [4 4 4 4]], shape=(2, 4), dtype=int32)\n",
      "tf.Tensor(\n",
      "[[1. 1.]\n",
      " [1. 1.]], shape=(2, 2), dtype=float32)\n",
      "tf.Tensor(\n",
      "[[ 1.6972226e+00  2.9198203e+00]\n",
      " [-1.3582706e-03  2.9906616e+00]\n",
      " [ 3.9934549e+00  4.3257351e+00]], shape=(3, 2), dtype=float32) \n",
      "\n",
      "tf.Tensor(\n",
      "[ 0  2  4  6  8 10 12 14 16 18 20 22 24 26 28 30 32 34 36 38 40 42 44 46\n",
      " 48 50 52 54 56 58 60 62 64 66 68 70 72 74 76 78 80 82 84 86 88 90 92 94\n",
      " 96 98], shape=(50,), dtype=int32)\n",
      "tf.Tensor(\n",
      "[[ 0  2  4  6  8]\n",
      " [10 12 14 16 18]\n",
      " [20 22 24 26 28]\n",
      " [30 32 34 36 38]\n",
      " [40 42 44 46 48]\n",
      " [50 52 54 56 58]\n",
      " [60 62 64 66 68]\n",
      " [70 72 74 76 78]\n",
      " [80 82 84 86 88]\n",
      " [90 92 94 96 98]], shape=(10, 5), dtype=int32) \n",
      "\n",
      "tf.Tensor(\n",
      "[[ 0 10 20 30 40 50 60 70 80 90]\n",
      " [ 2 12 22 32 42 52 62 72 82 92]\n",
      " [ 4 14 24 34 44 54 64 74 84 94]\n",
      " [ 6 16 26 36 46 56 66 76 86 96]\n",
      " [ 8 18 28 38 48 58 68 78 88 98]], shape=(5, 10), dtype=int32)\n"
     ]
    }
   ],
   "source": [
    "x =tf.constant(2)\n",
    "print(x)\n",
    "x= tf.constant(4,shape=(2,4))\n",
    "print(x)\n",
    "x=tf.ones((2,2))\n",
    "print(x)\n",
    "x= tf.random.normal((3,2),mean=3,stddev=2)\n",
    "print(x,'\\n')\n",
    "x=tf.range(0,100,2)\n",
    "print(x)\n",
    "x=tf.reshape(x,(10,5))\n",
    "print(x,'\\n')\n",
    "x=tf.transpose(x)\n",
    "print(x)"
   ]
  }
 ],
 "metadata": {
  "kernelspec": {
   "display_name": "main",
   "language": "python",
   "name": "python3"
  },
  "language_info": {
   "codemirror_mode": {
    "name": "ipython",
    "version": 3
   },
   "file_extension": ".py",
   "mimetype": "text/x-python",
   "name": "python",
   "nbconvert_exporter": "python",
   "pygments_lexer": "ipython3",
   "version": "3.11.4"
  },
  "orig_nbformat": 4
 },
 "nbformat": 4,
 "nbformat_minor": 2
}
