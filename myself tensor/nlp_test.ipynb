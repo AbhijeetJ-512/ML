{
 "cells": [
  {
   "cell_type": "code",
   "execution_count": 26,
   "metadata": {},
   "outputs": [],
   "source": [
    "import tensorflow as tf\n",
    "from tensorflow import keras\n",
    "from tensorflow.keras.preprocessing.text import Tokenizer\n",
    "from tensorflow.keras.preprocessing.sequence import pad_sequences"
   ]
  },
  {
   "cell_type": "code",
   "execution_count": 30,
   "metadata": {},
   "outputs": [],
   "source": [
    " data =[['hello i am abhijeet how are u','hello i am dheeraj']]"
   ]
  },
  {
   "cell_type": "code",
   "execution_count": 34,
   "metadata": {},
   "outputs": [
    {
     "name": "stdout",
     "output_type": "stream",
     "text": [
      "{'hello i am abhijeet how are u': 1, 'hello i am dheeraj': 2}\n",
      "[[[], []]]\n"
     ]
    }
   ],
   "source": [
    "eng_tokenizer =Tokenizer(num_words=100)\n",
    "eng_tokenizer.fit_on_texts(data)\n",
    "print(eng_tokenizer.word_index)\n",
    "tokenized_sentences = []\n",
    "for sentence in data:\n",
    "    tokens = eng_tokenizer.texts_to_sequences([sentence][0])\n",
    "    tokenized_sentences.append(tokens)\n",
    "print(tokenized_sentences)"
   ]
  }
 ],
 "metadata": {
  "kernelspec": {
   "display_name": "tf",
   "language": "python",
   "name": "python3"
  },
  "language_info": {
   "codemirror_mode": {
    "name": "ipython",
    "version": 3
   },
   "file_extension": ".py",
   "mimetype": "text/x-python",
   "name": "python",
   "nbconvert_exporter": "python",
   "pygments_lexer": "ipython3",
   "version": "3.9.17"
  },
  "orig_nbformat": 4
 },
 "nbformat": 4,
 "nbformat_minor": 2
}
