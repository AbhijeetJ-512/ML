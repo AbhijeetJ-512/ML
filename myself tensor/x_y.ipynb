{
 "cells": [
  {
   "cell_type": "code",
   "execution_count": 1,
   "metadata": {},
   "outputs": [],
   "source": [
    "import tensorflow as tf \n",
    "import numpy as np\n",
    "from tensorflow import keras"
   ]
  },
  {
   "cell_type": "code",
   "execution_count": 2,
   "metadata": {},
   "outputs": [],
   "source": [
    "model = tf.keras.Sequential([keras.layers.Dense(units=1,input_shape=[1])])"
   ]
  },
  {
   "cell_type": "code",
   "execution_count": 3,
   "metadata": {},
   "outputs": [],
   "source": [
    "model.compile(optimizer='sgd',loss='mean_squared_error')"
   ]
  },
  {
   "cell_type": "code",
   "execution_count": 4,
   "metadata": {},
   "outputs": [],
   "source": [
    "x = np.array([1,2,3,4,5,6,7,8,9,10,11,12,13,14,15])\n",
    "y=np.array([13,20,27,34,41,48,55,62,69,76,83,90,97,104,111])"
   ]
  },
  {
   "cell_type": "code",
   "execution_count": 5,
   "metadata": {},
   "outputs": [
    {
     "name": "stdout",
     "output_type": "stream",
     "text": [
      "Epoch 1/10\n",
      "1/1 [==============================] - 0s 196ms/step - loss: 6310.9683\n",
      "Epoch 2/10\n",
      "1/1 [==============================] - 0s 2ms/step - loss: 2826.6260\n",
      "Epoch 3/10\n",
      "1/1 [==============================] - 0s 3ms/step - loss: 1267.7955\n",
      "Epoch 4/10\n",
      "1/1 [==============================] - 0s 2ms/step - loss: 570.3884\n",
      "Epoch 5/10\n",
      "1/1 [==============================] - 0s 3ms/step - loss: 258.3591\n",
      "Epoch 6/10\n",
      "1/1 [==============================] - 0s 999us/step - loss: 118.7371\n",
      "Epoch 7/10\n",
      "1/1 [==============================] - 0s 2ms/step - loss: 56.2459\n",
      "Epoch 8/10\n",
      "1/1 [==============================] - 0s 4ms/step - loss: 28.2611\n",
      "Epoch 9/10\n",
      "1/1 [==============================] - 0s 2ms/step - loss: 15.7138\n",
      "Epoch 10/10\n",
      "1/1 [==============================] - 0s 5ms/step - loss: 10.0731\n"
     ]
    },
    {
     "data": {
      "text/plain": [
       "<keras.src.callbacks.History at 0x15240bb0810>"
      ]
     },
     "execution_count": 5,
     "metadata": {},
     "output_type": "execute_result"
    }
   ],
   "source": [
    "model.fit(x,y,epochs=10)"
   ]
  },
  {
   "cell_type": "code",
   "execution_count": 6,
   "metadata": {},
   "outputs": [
    {
     "name": "stdout",
     "output_type": "stream",
     "text": [
      "1/1 [==============================] - 0s 62ms/step\n"
     ]
    },
    {
     "data": {
      "text/plain": [
       "array([[440.47577]], dtype=float32)"
      ]
     },
     "execution_count": 6,
     "metadata": {},
     "output_type": "execute_result"
    }
   ],
   "source": [
    "model.predict([60])"
   ]
  },
  {
   "cell_type": "code",
   "execution_count": 7,
   "metadata": {},
   "outputs": [
    {
     "name": "stdout",
     "output_type": "stream",
     "text": [
      "[[7.323749]] [1.0507972]\n"
     ]
    }
   ],
   "source": [
    "weights,bais=model.layers[0].get_weights()\n",
    "print(weights,bais) #7.104,6.2726"
   ]
  }
 ],
 "metadata": {
  "kernelspec": {
   "display_name": "main",
   "language": "python",
   "name": "python3"
  },
  "language_info": {
   "codemirror_mode": {
    "name": "ipython",
    "version": 3
   },
   "file_extension": ".py",
   "mimetype": "text/x-python",
   "name": "python",
   "nbconvert_exporter": "python",
   "pygments_lexer": "ipython3",
   "version": "3.11.4"
  },
  "orig_nbformat": 4
 },
 "nbformat": 4,
 "nbformat_minor": 2
}
