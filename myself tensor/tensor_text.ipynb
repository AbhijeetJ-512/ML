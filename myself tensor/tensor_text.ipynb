{
 "cells": [
  {
   "cell_type": "code",
   "execution_count": 2,
   "metadata": {},
   "outputs": [],
   "source": [
    "import tensorflow as tf\n",
    "from tensorflow.keras.preprocessing.text import Tokenizer\n",
    "from tensorflow.keras.preprocessing.sequence import pad_sequences"
   ]
  },
  {
   "cell_type": "code",
   "execution_count": null,
   "metadata": {},
   "outputs": [],
   "source": [
    "# Step 1: Load and preprocess data\n",
    "\n",
    "\n"
   ]
  },
  {
   "cell_type": "code",
   "execution_count": null,
   "metadata": {},
   "outputs": [],
   "source": [
    "# Step 2: Tokenize and preprocess text data for both languages\n",
    "eng_tokenizer = Tokenizer(num_words=10000)\n",
    "fra_tokenizer = Tokenizer(num_words=10000)\n",
    "eng_tokenizer.fit_on_texts(english_sentences)\n",
    "fra_tokenizer.fit_on_texts(french_sentences)\n",
    "\n",
    "eng_sequences = eng_tokenizer.texts_to_sequences(english_sentences)\n",
    "fra_sequences = fra_tokenizer.texts_to_sequences(french_sentences)\n",
    "\n",
    "eng_padded = pad_sequences(eng_sequences, maxlen=english_max_len, padding='post')\n",
    "fra_padded = pad_sequences(fra_sequences, maxlen=french_max_len, padding='post')\n",
    "\n"
   ]
  },
  {
   "cell_type": "code",
   "execution_count": null,
   "metadata": {},
   "outputs": [],
   "source": [
    "# Step 3: Build the sequence-to-sequence model\n",
    "encoder_inputs = tf.keras.layers.Input(shape=(english_max_len,))\n",
    "encoder_embedding = tf.keras.layers.Embedding(input_dim=10000, output_dim=128)(encoder_inputs)\n",
    "encoder_lstm = tf.keras.layers.LSTM(64)(encoder_embedding)\n",
    "\n",
    "decoder_inputs = tf.keras.layers.Input(shape=(french_max_len,))\n",
    "decoder_embedding = tf.keras.layers.Embedding(input_dim=10000, output_dim=128)(decoder_inputs)\n",
    "decoder_lstm = tf.keras.layers.LSTM(64, return_sequences=True)(decoder_embedding)\n",
    "decoder_outputs = tf.keras.layers.Dense(10000, activation='softmax')(decoder_lstm)\n",
    "\n",
    "model = tf.keras.models.Model([encoder_inputs, decoder_inputs], decoder_outputs)\n",
    "\n"
   ]
  },
  {
   "cell_type": "code",
   "execution_count": null,
   "metadata": {},
   "outputs": [],
   "source": [
    "# Step 4: Compile the model\n",
    "model.compile(optimizer='adam', loss='sparse_categorical_crossentropy', metrics=['accuracy'])\n",
    "\n"
   ]
  },
  {
   "cell_type": "code",
   "execution_count": null,
   "metadata": {},
   "outputs": [],
   "source": [
    "# Step 5: Train the model\n",
    "model.fit([eng_padded, fra_padded[:, :-1]], fra_padded[:, 1:], epochs=10, validation_split=0.2)\n"
   ]
  }
 ],
 "metadata": {
  "kernelspec": {
   "display_name": "tf",
   "language": "python",
   "name": "python3"
  },
  "language_info": {
   "codemirror_mode": {
    "name": "ipython",
    "version": 3
   },
   "file_extension": ".py",
   "mimetype": "text/x-python",
   "name": "python",
   "nbconvert_exporter": "python",
   "pygments_lexer": "ipython3",
   "version": "3.9.17"
  },
  "orig_nbformat": 4
 },
 "nbformat": 4,
 "nbformat_minor": 2
}
