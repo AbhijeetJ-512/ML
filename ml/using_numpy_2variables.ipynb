{
 "cells": [
  {
   "cell_type": "code",
   "execution_count": 78,
   "metadata": {},
   "outputs": [],
   "source": [
    "import numpy as np\n",
    "import matplotlib.pyplot as plt "
   ]
  },
  {
   "cell_type": "code",
   "execution_count": 79,
   "metadata": {},
   "outputs": [
    {
     "name": "stdout",
     "output_type": "stream",
     "text": [
      "(2, 5) (5,)\n"
     ]
    }
   ],
   "source": [
    "x_data = np.array([[1,2],[2,3],[3,1],[4,4],[2,4]]).transpose()\n",
    "y_data = np.array([16,21,17,28,24])  #2*x1+3*x2+8\n",
    "print(x_data.shape,y_data.shape)"
   ]
  },
  {
   "cell_type": "code",
   "execution_count": 80,
   "metadata": {},
   "outputs": [
    {
     "name": "stdout",
     "output_type": "stream",
     "text": [
      "1 7 0\n"
     ]
    }
   ],
   "source": [
    "w1=np.random.randint(0,9)\n",
    "w2=np.random.randint(0,9)\n",
    "b=np.random.randint(0,9)\n",
    "print(w1,w2,b)"
   ]
  },
  {
   "cell_type": "code",
   "execution_count": 81,
   "metadata": {},
   "outputs": [],
   "source": [
    "learning_rate=0.01\n",
    "def cost_function(x,y,w1,w2,b):\n",
    "    m=len(x)\n",
    "    predicted=w1*x[0]+w2*x[1]+b\n",
    "    error=predicted-y\n",
    "    cost = (1 / (2 * m)) * np.sum(error**2)\n",
    "    df_w= (1 / m) * np.dot(x_data,error)\n",
    "    print(df_w)\n",
    "    return cost"
   ]
  },
  {
   "cell_type": "code",
   "execution_count": 82,
   "metadata": {},
   "outputs": [
    {
     "name": "stdout",
     "output_type": "stream",
     "text": [
      "[ 5.  18.5]\n"
     ]
    },
    {
     "data": {
      "text/plain": [
       "26.5"
      ]
     },
     "execution_count": 82,
     "metadata": {},
     "output_type": "execute_result"
    }
   ],
   "source": [
    "cost_function(x_data,y_data,w1,w2,b)"
   ]
  },
  {
   "cell_type": "code",
   "execution_count": 83,
   "metadata": {},
   "outputs": [
    {
     "name": "stdout",
     "output_type": "stream",
     "text": [
      "[1.77635684e-14 1.77635684e-14]\n",
      "Iteration 99999, Cost: 4.8467614016778965e-27\n",
      "2.000000000000038 3.0000000000000333 7.999999999999798\n"
     ]
    }
   ],
   "source": [
    "m = len(x_data)\n",
    "epochs=100000\n",
    "for iteration in range(epochs):\n",
    "    predictions = w1*x_data[0]+w2*x_data[1]+b\n",
    "    error = predictions - y_data\n",
    "    df_b = (1 / m) * np.sum(error)\n",
    "    df_w= (1 / m) * np.dot(x_data,error)\n",
    "    b -= learning_rate * df_b\n",
    "    w1 -= learning_rate * df_w[0]\n",
    "    w2 -= learning_rate * df_w[1]\n",
    "cost = cost_function(x_data, y_data, w1,w2, b)\n",
    "print(f\"Iteration {iteration}, Cost: {cost}\")\n",
    "print(w1,w2,b)"
   ]
  }
 ],
 "metadata": {
  "kernelspec": {
   "display_name": "jupyter",
   "language": "python",
   "name": "python3"
  },
  "language_info": {
   "codemirror_mode": {
    "name": "ipython",
    "version": 3
   },
   "file_extension": ".py",
   "mimetype": "text/x-python",
   "name": "python",
   "nbconvert_exporter": "python",
   "pygments_lexer": "ipython3",
   "version": "3.11.4"
  },
  "orig_nbformat": 4
 },
 "nbformat": 4,
 "nbformat_minor": 2
}
