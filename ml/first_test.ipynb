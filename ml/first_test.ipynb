{
 "cells": [
  {
   "cell_type": "code",
   "execution_count": 1,
   "metadata": {},
   "outputs": [
    {
     "name": "stdout",
     "output_type": "stream",
     "text": [
      "prime\n"
     ]
    }
   ],
   "source": [
    "n=int(input(\"enter number\"))\n",
    "stat=1\n",
    "for x in range(2,int(n/2)):\n",
    "    if n%x==0:\n",
    "        print(\"Not a prime\")\n",
    "        stat=0\n",
    "        break\n",
    "if stat==0:\n",
    "    if n%3==0 or n%7==0 or n%9==0 or n%11==0:\n",
    "        print(\"divisible\")\n",
    "else:\n",
    "    print(\"prime\")"
   ]
  },
  {
   "cell_type": "code",
   "execution_count": null,
   "metadata": {},
   "outputs": [
    {
     "name": "stdout",
     "output_type": "stream",
     "text": [
      "palidrome\n"
     ]
    }
   ],
   "source": [
    "string=input(\"enter value\")\n",
    "if string[::1]==string[::-1]:\n",
    "    print(\"palidrome\")\n",
    "else:\n",
    "    print(\"not a palindrome\")"
   ]
  },
  {
   "cell_type": "code",
   "execution_count": 36,
   "metadata": {},
   "outputs": [
    {
     "name": "stdout",
     "output_type": "stream",
     "text": [
      "[2, 4, 6, 8, 10]\n",
      "[1, 3, 5, 7, 9]\n"
     ]
    }
   ],
   "source": [
    "list1=[1,2,3,4,5,6,7,8,9,10]\n",
    "evenlist=[x for x in list1 if x%2==0]\n",
    "oddlist = [x for x in list1 if x%2!=0]\n",
    "print(evenlist)\n",
    "print(oddlist)"
   ]
  },
  {
   "cell_type": "code",
   "execution_count": 7,
   "metadata": {},
   "outputs": [
    {
     "name": "stdout",
     "output_type": "stream",
     "text": [
      "[1, 3, 5, 7, 9] [2, 4, 6, 8, 10]\n"
     ]
    }
   ],
   "source": [
    "odd=[]\n",
    "even=[]\n",
    "for x in range(10):\n",
    "    element=int(input(\"enter number\"))\n",
    "    if element%2==0:\n",
    "        even.append(element)\n",
    "    else:\n",
    "        odd.append(element)\n",
    "print(odd,even)"
   ]
  },
  {
   "cell_type": "code",
   "execution_count": 22,
   "metadata": {},
   "outputs": [
    {
     "name": "stdout",
     "output_type": "stream",
     "text": [
      "*\n",
      "**\n",
      "***\n",
      "****\n"
     ]
    }
   ],
   "source": [
    "n='*'\n",
    "for x in range(1,int(input(\"enter number\"))+1):\n",
    "    print(n*x)"
   ]
  }
 ],
 "metadata": {
  "kernelspec": {
   "display_name": "jupyter",
   "language": "python",
   "name": "python3"
  },
  "language_info": {
   "codemirror_mode": {
    "name": "ipython",
    "version": 3
   },
   "file_extension": ".py",
   "mimetype": "text/x-python",
   "name": "python",
   "nbconvert_exporter": "python",
   "pygments_lexer": "ipython3",
   "version": "3.11.4"
  },
  "orig_nbformat": 4
 },
 "nbformat": 4,
 "nbformat_minor": 2
}
