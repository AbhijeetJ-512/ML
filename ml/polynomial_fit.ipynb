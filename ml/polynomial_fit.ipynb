{
 "cells": [
  {
   "cell_type": "code",
   "execution_count": null,
   "metadata": {},
   "outputs": [],
   "source": [
    "import numpy as np\n",
    "import matplotlib.pyplot as plt"
   ]
  },
  {
   "cell_type": "markdown",
   "metadata": {},
   "source": [
    "This is for 2x^2 output\n"
   ]
  },
  {
   "cell_type": "code",
   "execution_count": null,
   "metadata": {},
   "outputs": [],
   "source": [
    "x_data=[x for x in  range(-20,20)]\n",
    "y_data=[2*(x**2) for x in  range(-20,20)]\n",
    "x_data=np.array(x_data)\n",
    "y_data=np.array(y_data)\n",
    "w2=np.random.randint(10)\n",
    "w1=np.random.randint(10)\n",
    "b=np.random.randint(10)\n",
    "print(f\"randomly generated weights for x2 {w2} for x1 {w1} and bias {b}\")\n"
   ]
  },
  {
   "cell_type": "code",
   "execution_count": null,
   "metadata": {},
   "outputs": [],
   "source": [
    "def plotting():\n",
    "    plt.plot(x_data,y_data,label='real',marker='o')\n",
    "    plt.plot(x_data,(w2*(x_data**2))+x_data*w1+b,linestyle='--',label='predicted')\n",
    "    plt.xlabel('x axis')\n",
    "    plt.ylabel('y axis')\n",
    "    plt.title(\"model for predication\")\n",
    "    plt.legend()\n",
    "    plt.grid(True)\n",
    "    plt.show()\n",
    "plotting()"
   ]
  },
  {
   "cell_type": "code",
   "execution_count": null,
   "metadata": {},
   "outputs": [],
   "source": [
    "learning_rate=0.00005\n",
    "def cost_function(x,y,w1,w2,b):\n",
    "    m=len(x)\n",
    "    predicted=w2*(x**2)+w1*x+b\n",
    "    error=predicted-y\n",
    "    cost = (1 / (2 * m)) * np.sum(error**2)\n",
    "    return cost"
   ]
  },
  {
   "cell_type": "code",
   "execution_count": null,
   "metadata": {},
   "outputs": [],
   "source": [
    "cost_function(x_data,y_data,w1,w2,b)"
   ]
  },
  {
   "cell_type": "code",
   "execution_count": null,
   "metadata": {},
   "outputs": [],
   "source": [
    "m = len(x_data)\n",
    "epochs=1000\n",
    "for iteration in range(epochs):\n",
    "    predictions = w2*x_data**2+w1*x_data+b\n",
    "    error = predictions - y_data\n",
    "    df_b = (1 / m) * np.sum(error)\n",
    "    df_w1 = (1 / m) * np.sum(error * x_data)\n",
    "    df_w2 = (1 / m) * np.sum(error * (x_data**2))\n",
    "    b -= learning_rate * df_b\n",
    "    w1 -= learning_rate * df_w1\n",
    "    w2 -= learning_rate * df_w2\n",
    "cost = cost_function(x_data, y_data, w1,w2, b)\n",
    "plotting()\n",
    "print(f\"Iteration {iteration}, Cost: {cost}\")\n",
    "print(f\"weights={w2,w1},bias={b}\")"
   ]
  }
 ],
 "metadata": {
  "kernelspec": {
   "display_name": "jupyter",
   "language": "python",
   "name": "python3"
  },
  "language_info": {
   "codemirror_mode": {
    "name": "ipython",
    "version": 3
   },
   "file_extension": ".py",
   "mimetype": "text/x-python",
   "name": "python",
   "nbconvert_exporter": "python",
   "pygments_lexer": "ipython3",
   "version": "3.11.4"
  },
  "orig_nbformat": 4
 },
 "nbformat": 4,
 "nbformat_minor": 2
}
