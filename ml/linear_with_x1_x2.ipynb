{
 "cells": [
  {
   "cell_type": "code",
   "execution_count": 7,
   "metadata": {},
   "outputs": [],
   "source": [
    "import numpy as np\n",
    "import matplotlib.pyplot as plt "
   ]
  },
  {
   "cell_type": "markdown",
   "metadata": {},
   "source": []
  },
  {
   "cell_type": "code",
   "execution_count": 8,
   "metadata": {},
   "outputs": [
    {
     "name": "stdout",
     "output_type": "stream",
     "text": [
      "[[1 2]\n",
      " [2 3]\n",
      " [3 1]\n",
      " [4 4]\n",
      " [2 4]]\n",
      "[1 2] \n",
      "\n",
      "[[1 2 3 4 2]\n",
      " [2 3 1 4 4]]\n",
      "(2, 5) (5,)\n",
      "[1 2 3 4 2]\n"
     ]
    }
   ],
   "source": [
    "x_data = np.array([[1,2],[2,3],[3,1],[4,4],[2,4]])\n",
    "y_data = np.array([8,13,9,20,16])\n",
    "print(x_data)\n",
    "print(x_data[0],'\\n')\n",
    "x_data=x_data.transpose()\n",
    "print(x_data)\n",
    "print(x_data.shape,y_data.shape)\n",
    "print(x_data[0])"
   ]
  },
  {
   "cell_type": "code",
   "execution_count": 9,
   "metadata": {},
   "outputs": [
    {
     "name": "stdout",
     "output_type": "stream",
     "text": [
      "7 2 5\n"
     ]
    }
   ],
   "source": [
    "w1=np.random.randint(0,9)\n",
    "w2=np.random.randint(0,9)\n",
    "b=np.random.randint(0,9)\n",
    "print(w1,w2,b)"
   ]
  },
  {
   "cell_type": "code",
   "execution_count": 10,
   "metadata": {},
   "outputs": [],
   "source": [
    "learning_rate=0.01"
   ]
  },
  {
   "cell_type": "code",
   "execution_count": 11,
   "metadata": {},
   "outputs": [],
   "source": [
    "def cost_function(x,y,w1,w2,b):\n",
    "    m=len(x)\n",
    "    predicted=w1*x[0]+w2*x[1]+b\n",
    "    error=predicted-y\n",
    "    cost = (1 / (2 * m)) * np.sum(error**2)\n",
    "    return cost"
   ]
  },
  {
   "cell_type": "code",
   "execution_count": 12,
   "metadata": {},
   "outputs": [
    {
     "data": {
      "text/plain": [
       "282.75"
      ]
     },
     "execution_count": 12,
     "metadata": {},
     "output_type": "execute_result"
    }
   ],
   "source": [
    "cost_function(x_data,y_data,w1,w2,b)"
   ]
  },
  {
   "cell_type": "code",
   "execution_count": 13,
   "metadata": {},
   "outputs": [
    {
     "name": "stdout",
     "output_type": "stream",
     "text": [
      "Iteration 4999, Cost: 1.5833431823625884e-10\n",
      "1.999993303625573 2.9999941258034504 3.584709586680273e-05\n"
     ]
    }
   ],
   "source": [
    "m = len(x_data)\n",
    "epochs=5000\n",
    "for iteration in range(epochs):\n",
    "    predictions = w1*x_data[0]+w2*x_data[1]+b\n",
    "    error = predictions - y_data\n",
    "    df_b = (1 / m) * np.sum(error)\n",
    "    df_w1 = (1 / m) * np.sum(error * x_data[0])\n",
    "    df_w2 = (1 / m) * np.sum(error * x_data[1])\n",
    "    b -= learning_rate * df_b\n",
    "    w1 -= learning_rate * df_w1\n",
    "    w2 -= learning_rate * df_w2\n",
    "cost = cost_function(x_data, y_data, w1,w2, b)\n",
    "print(f\"Iteration {iteration}, Cost: {cost}\")\n",
    "print(w1,w2,b)"
   ]
  }
 ],
 "metadata": {
  "kernelspec": {
   "display_name": "jupyter",
   "language": "python",
   "name": "python3"
  },
  "language_info": {
   "codemirror_mode": {
    "name": "ipython",
    "version": 3
   },
   "file_extension": ".py",
   "mimetype": "text/x-python",
   "name": "python",
   "nbconvert_exporter": "python",
   "pygments_lexer": "ipython3",
   "version": "3.11.4"
  },
  "orig_nbformat": 4
 },
 "nbformat": 4,
 "nbformat_minor": 2
}
