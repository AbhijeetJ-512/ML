{
 "cells": [
  {
   "cell_type": "code",
   "execution_count": 48,
   "metadata": {},
   "outputs": [],
   "source": [
    "import numpy as np\n",
    "import matplotlib.pyplot as plt "
   ]
  },
  {
   "cell_type": "markdown",
   "metadata": {},
   "source": []
  },
  {
   "cell_type": "code",
   "execution_count": 49,
   "metadata": {},
   "outputs": [
    {
     "name": "stdout",
     "output_type": "stream",
     "text": [
      "[[1 2]\n",
      " [2 3]\n",
      " [3 1]\n",
      " [4 4]\n",
      " [2 4]]\n",
      "[1 2] \n",
      "\n",
      "[[1 2 3 4 2]\n",
      " [2 3 1 4 4]]\n",
      "(2, 5) (5,)\n",
      "[1 2 3 4 2]\n"
     ]
    }
   ],
   "source": [
    "x_data = np.array([[1,2],[2,3],[3,1],[4,4],[2,4]])\n",
    "y_data = np.array([8,13,9,20,16])\n",
    "print(x_data)\n",
    "print(x_data[0],'\\n')\n",
    "x_data=x_data.transpose() \n",
    "print(x_data)\n",
    "print(x_data.shape,y_data.shape)\n",
    "print(x_data[0])"
   ]
  },
  {
   "cell_type": "code",
   "execution_count": 50,
   "metadata": {},
   "outputs": [
    {
     "name": "stdout",
     "output_type": "stream",
     "text": [
      "7 0 2\n"
     ]
    }
   ],
   "source": [
    "w1=np.random.randint(0,9)\n",
    "w2=np.random.randint(0,9)\n",
    "b=np.random.randint(0,9)\n",
    "print(w1,w2,b)"
   ]
  },
  {
   "cell_type": "code",
   "execution_count": 51,
   "metadata": {},
   "outputs": [],
   "source": [
    "learning_rate=0.01\n",
    "def cost_function(x,y,w1,w2,b):\n",
    "    m=len(x)\n",
    "    predicted=w1*x[0]+w2*x[1]+b\n",
    "    error=predicted-y\n",
    "    cost = (1 / (2 * m)) * np.sum(error**2)\n",
    "    return cost"
   ]
  },
  {
   "cell_type": "code",
   "execution_count": 52,
   "metadata": {},
   "outputs": [
    {
     "data": {
      "text/plain": [
       "76.5"
      ]
     },
     "execution_count": 52,
     "metadata": {},
     "output_type": "execute_result"
    }
   ],
   "source": [
    "cost_function(x_data,y_data,w1,w2,b)"
   ]
  },
  {
   "cell_type": "code",
   "execution_count": 53,
   "metadata": {},
   "outputs": [
    {
     "name": "stdout",
     "output_type": "stream",
     "text": [
      "Iteration 99999, Cost: 5.679798517591285e-29\n",
      "1.9999999999999973 2.9999999999999956 1.9518722788999525e-14\n"
     ]
    }
   ],
   "source": [
    "m = len(x_data)\n",
    "epochs=100000\n",
    "for iteration in range(epochs):\n",
    "    predictions = w1*x_data[0]+w2*x_data[1]+b\n",
    "    error = predictions - y_data\n",
    "    df_b = (1 / m) * np.sum(error)\n",
    "    df_w1 = (1 / m) * np.sum(error * x_data[0])\n",
    "    df_w2 = (1 / m) * np.sum(error * x_data[1])\n",
    "    b -= learning_rate * df_b\n",
    "    w1 -= learning_rate * df_w1\n",
    "    w2 -= learning_rate * df_w2\n",
    "cost = cost_function(x_data, y_data, w1,w2, b)\n",
    "print(f\"Iteration {iteration}, Cost: {cost}\")\n",
    "print(w1,w2,b)"
   ]
  }
 ],
 "metadata": {
  "kernelspec": {
   "display_name": "jupyter",
   "language": "python",
   "name": "python3"
  },
  "language_info": {
   "codemirror_mode": {
    "name": "ipython",
    "version": 3
   },
   "file_extension": ".py",
   "mimetype": "text/x-python",
   "name": "python",
   "nbconvert_exporter": "python",
   "pygments_lexer": "ipython3",
   "version": "3.11.4"
  },
  "orig_nbformat": 4
 },
 "nbformat": 4,
 "nbformat_minor": 2
}
