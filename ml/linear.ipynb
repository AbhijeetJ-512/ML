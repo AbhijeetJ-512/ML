{
 "cells": [
  {
   "cell_type": "markdown",
   "metadata": {},
   "source": [
    "-Library used-\n"
   ]
  },
  {
   "cell_type": "code",
   "execution_count": null,
   "metadata": {},
   "outputs": [],
   "source": [
    "import numpy as np\n",
    "import matplotlib.pyplot as plt"
   ]
  },
  {
   "cell_type": "markdown",
   "metadata": {},
   "source": [
    "loading a data for a given equation 2x+1 as output and genrating weights randomly for it for predication\n"
   ]
  },
  {
   "cell_type": "code",
   "execution_count": null,
   "metadata": {},
   "outputs": [],
   "source": [
    "x_data=[x for x in  range(20)]\n",
    "y_data=[2*x+1 for x in  range(20)]\n",
    "x_data=np.array(x_data)\n",
    "y_data=np.array(y_data)\n",
    "print(x_data,y_data)\n",
    "\n",
    "w1=np.random.randint(10)\n",
    "b=np.random.randint(10)\n",
    "print(w1,b)\n"
   ]
  },
  {
   "cell_type": "markdown",
   "metadata": {},
   "source": [
    "Defined a function for plotting of graph\n"
   ]
  },
  {
   "cell_type": "code",
   "execution_count": null,
   "metadata": {},
   "outputs": [],
   "source": [
    "def plotting():\n",
    "    plt.plot(x_data,y_data,label='real')\n",
    "    plt.plot(x_data,w1*x_data+b,linestyle='--',label='predicted')\n",
    "    plt.xlabel('x axis')\n",
    "    plt.ylabel('y axis')\n",
    "    plt.title(\"model for predication\")\n",
    "    plt.legend()\n",
    "    plt.grid(True)\n",
    "    plt.show()\n",
    "plotting()"
   ]
  },
  {
   "cell_type": "markdown",
   "metadata": {},
   "source": [
    "setting the learning rate for the and calcuating the cost function for the randomly genearted values\n"
   ]
  },
  {
   "cell_type": "code",
   "execution_count": null,
   "metadata": {},
   "outputs": [],
   "source": [
    "learning_rate=0.001\n",
    "def cost_function(x,y,w1,b):\n",
    "    m=len(x)\n",
    "    predicted=w1*x+b\n",
    "    error=predicted-y\n",
    "    cost = (1 / (2 * m)) * np.sum(error**2)\n",
    "    return cost"
   ]
  },
  {
   "cell_type": "code",
   "execution_count": null,
   "metadata": {},
   "outputs": [],
   "source": [
    "def cost_plot():\n",
    "    w=np.linspace(-10,10,20)\n",
    "    cost_plt=np.empty((20,))\n",
    "    for x in range(20):\n",
    "        cost_plt[x]=cost_function(x_data,y_data,w[x],b)\n",
    "    plt.plot(w,cost_plt)\n",
    "    plt.show()"
   ]
  },
  {
   "cell_type": "code",
   "execution_count": null,
   "metadata": {},
   "outputs": [],
   "source": [
    "print(cost_function(x_data,y_data,w1,b))\n",
    "cost_plot()"
   ]
  },
  {
   "cell_type": "markdown",
   "metadata": {},
   "source": [
    "### Gradient descent alogrithum\n",
    "\n",
    "it updates the randomly genrated weights such that the cost function is reduced and we get weights for the equation such that the\n",
    "error for the model should be minimum\n",
    "\n",
    "The epcohs is kept less so that we can get the weights being ajusted slowly in the graph\n",
    "keep running the below👇 code to see changes and expreience the fun of ML\n"
   ]
  },
  {
   "cell_type": "code",
   "execution_count": null,
   "metadata": {},
   "outputs": [],
   "source": [
    "m = len(x_data)\n",
    "epochs=2000\n",
    "for iteration in range(epochs):\n",
    "    predictions = b + w1 * x_data\n",
    "    error = predictions - y_data\n",
    "    df_b = (1 / m) * np.sum(error)\n",
    "    df_w = (1 / m) * np.sum(error * x_data)\n",
    "    b -= learning_rate * df_b\n",
    "    w1 -= learning_rate * df_w\n",
    "    cost = cost_function(x_data, y_data, w1, b)\n",
    "plotting()\n",
    "print(f\"Iteration {iteration}, Cost: {cost}\")\n",
    "print(f\"weights={w1},bias={b}\")"
   ]
  },
  {
   "cell_type": "markdown",
   "metadata": {},
   "source": [
    "### Function for predicting for a given value\n",
    "\n",
    "for more accurate predication run the above code multiple times\n"
   ]
  },
  {
   "cell_type": "code",
   "execution_count": null,
   "metadata": {},
   "outputs": [],
   "source": [
    "def predict(x):\n",
    "    return w1*x+b\n",
    "predict(5)"
   ]
  }
 ],
 "metadata": {
  "kernelspec": {
   "display_name": "jupyter",
   "language": "python",
   "name": "python3"
  },
  "language_info": {
   "codemirror_mode": {
    "name": "ipython",
    "version": 3
   },
   "file_extension": ".py",
   "mimetype": "text/x-python",
   "name": "python",
   "nbconvert_exporter": "python",
   "pygments_lexer": "ipython3",
   "version": "3.11.4"
  },
  "orig_nbformat": 4
 },
 "nbformat": 4,
 "nbformat_minor": 2
}
