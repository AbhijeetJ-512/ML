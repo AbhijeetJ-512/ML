{
 "cells": [
  {
   "cell_type": "code",
   "execution_count": 1,
   "metadata": {},
   "outputs": [
    {
     "name": "stdout",
     "output_type": "stream",
     "text": [
      "prime\n"
     ]
    }
   ],
   "source": [
    "x=int(input(\"Enter number\"))\n",
    "for i in range(2,x+1):\n",
    "    if(x%i==0):\n",
    "        break\n",
    "if(x==i):\n",
    "    print(\"prime\")\n",
    "elif(x%3==0):\n",
    "    print(\"divisible by 3\")\n",
    "elif(x%5==0):\n",
    "    print(\"divisible by 5\")\n",
    "elif(x%7==0):\n",
    "    print(\"divisible by 7\")\n",
    "elif(x%11==0):\n",
    "    print(\"divisible by 11\")\n",
    "else :print(\"not prime and not divisible\")"
   ]
  },
  {
   "cell_type": "code",
   "execution_count": null,
   "metadata": {},
   "outputs": [],
   "source": [
    "y=input(\"Enter string \")\n",
    "x=len(y)\n",
    "for i in range(x):\n",
    "    if(y[i]!=y[x-i-1]):\n",
    "        break\n",
    "if(i==x-1):\n",
    "    print(\"palindrome\")\n",
    "else :\n",
    "    print(\"not palindrome\")"
   ]
  },
  {
   "cell_type": "code",
   "execution_count": null,
   "metadata": {},
   "outputs": [],
   "source": [
    "list=[]\n",
    "list1=[]\n",
    "list2=[]\n",
    "for i in range(10):\n",
    "    x=int(input())\n",
    "    list.append(x)\n",
    "for x in list:\n",
    "    if(x%2==0):\n",
    "        list1.append(x)#for even numbers\n",
    "    else:\n",
    "        list2.append(x)#for odd numbers\n",
    "    \n",
    "print(list1)\n",
    "print(list2)"
   ]
  },
  {
   "cell_type": "code",
   "execution_count": null,
   "metadata": {},
   "outputs": [],
   "source": [
    "x=int(input(\"enter n :\"))\n",
    "for i in range(1,x+1):\n",
    "   for j in range(i):\n",
    "      print('*',end=\"\")\n",
    "   print()  "
   ]
  }
 ],
 "metadata": {
  "kernelspec": {
   "display_name": "jupyter",
   "language": "python",
   "name": "python3"
  },
  "language_info": {
   "codemirror_mode": {
    "name": "ipython",
    "version": 3
   },
   "file_extension": ".py",
   "mimetype": "text/x-python",
   "name": "python",
   "nbconvert_exporter": "python",
   "pygments_lexer": "ipython3",
   "version": "3.11.4"
  },
  "orig_nbformat": 4
 },
 "nbformat": 4,
 "nbformat_minor": 2
}
