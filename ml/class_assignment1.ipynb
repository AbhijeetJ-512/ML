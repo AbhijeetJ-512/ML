{
 "cells": [
  {
   "cell_type": "code",
   "execution_count": null,
   "metadata": {},
   "outputs": [],
   "source": [
    "import numpy as np\n",
    "import pandas as pd \n",
    "import matplotlib.pyplot as plt\n",
    "import random"
   ]
  },
  {
   "cell_type": "code",
   "execution_count": null,
   "metadata": {},
   "outputs": [],
   "source": []
  },
  {
   "cell_type": "code",
   "execution_count": null,
   "metadata": {},
   "outputs": [],
   "source": [
    "n=int(input(\"enter no of turns\"))\n",
    "count=np.zeros((3,))\n",
    "comp_i=[]\n",
    "user_i=[]\n",
    "result=[]\n",
    "gamelist=['rock','paper','sisccor']\n",
    "for x in range(n):\n",
    "    comp=random.choice(gamelist)\n",
    "    comp_i.append(comp)\n",
    "    user=input(\"Rock paper or sisccor?\")\n",
    "    user_i.append(user)\n",
    "    if(comp=='rock' and user=='paper') or (comp=='paper' and user=='sisccor') or (comp=='sisccor' and user=='rock'):\n",
    "        print(\"YOU WIN\")\n",
    "        count[0]+=1\n",
    "        result.append('win')\n",
    "    elif(comp==user):\n",
    "        print(\"TIE\")\n",
    "        count[1]+=1\n",
    "        result.append('tie')\n",
    "    else:\n",
    "        print(\"Computer WINS!\")\n",
    "        count[2]+=1\n",
    "        result.append('loss')\n",
    "print(f\"computer won : {count[2]} time(s)\\nYou won : {count[0]} time(s)\\nTie : {count[1]} time(s)\")"
   ]
  },
  {
   "cell_type": "code",
   "execution_count": null,
   "metadata": {},
   "outputs": [],
   "source": [
    "data={'computer':comp_i,'user':user_i,'result':result}\n",
    "df=pd.DataFrame(data)\n",
    "df.to_csv('data/game.csv')"
   ]
  },
  {
   "cell_type": "code",
   "execution_count": null,
   "metadata": {},
   "outputs": [],
   "source": [
    "plt.pie(count,labels=['User','Tie','Computer'],autopct='%1.1f%%')\n",
    "plt.title('Pie plot')\n",
    "plt.legend(loc='upper left')\n",
    "plt.show()"
   ]
  }
 ],
 "metadata": {
  "kernelspec": {
   "display_name": "jupyter",
   "language": "python",
   "name": "python3"
  },
  "language_info": {
   "codemirror_mode": {
    "name": "ipython",
    "version": 3
   },
   "file_extension": ".py",
   "mimetype": "text/x-python",
   "name": "python",
   "nbconvert_exporter": "python",
   "pygments_lexer": "ipython3",
   "version": "3.11.4"
  },
  "orig_nbformat": 4
 },
 "nbformat": 4,
 "nbformat_minor": 2
}
