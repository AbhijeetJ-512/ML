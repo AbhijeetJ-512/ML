{
 "cells": [
  {
   "cell_type": "code",
   "execution_count": 1,
   "metadata": {},
   "outputs": [],
   "source": [
    "import statistics as stat"
   ]
  },
  {
   "cell_type": "code",
   "execution_count": 2,
   "metadata": {},
   "outputs": [
    {
     "name": "stdout",
     "output_type": "stream",
     "text": [
      "Hello world\n"
     ]
    }
   ],
   "source": [
    "print(\"Hello world\")"
   ]
  },
  {
   "cell_type": "code",
   "execution_count": 3,
   "metadata": {},
   "outputs": [
    {
     "name": "stdout",
     "output_type": "stream",
     "text": [
      "-1\n",
      "-1\n",
      "-2\n"
     ]
    }
   ],
   "source": [
    "a=1\n",
    "b=2\n",
    "c=3\n",
    "print(a-b)\n",
    "print(b-c)\n",
    "print(a-c)"
   ]
  },
  {
   "cell_type": "code",
   "execution_count": 4,
   "metadata": {},
   "outputs": [
    {
     "name": "stdout",
     "output_type": "stream",
     "text": [
      "abhijeet\n"
     ]
    }
   ],
   "source": [
    "a=input(\"enter name\")\n",
    "print(a)"
   ]
  },
  {
   "cell_type": "code",
   "execution_count": 5,
   "metadata": {},
   "outputs": [
    {
     "name": "stdout",
     "output_type": "stream",
     "text": [
      "6\n"
     ]
    }
   ],
   "source": [
    "a=2\n",
    "b=3\n",
    "print(a*b)"
   ]
  },
  {
   "cell_type": "code",
   "execution_count": 6,
   "metadata": {},
   "outputs": [
    {
     "name": "stdout",
     "output_type": "stream",
     "text": [
      "1\n",
      "1.3333333333333333\n",
      "5\n"
     ]
    }
   ],
   "source": [
    "a=20\n",
    "b=15\n",
    "print(a//b)\n",
    "print(a/b)\n",
    "print(a%b)"
   ]
  },
  {
   "cell_type": "code",
   "execution_count": 7,
   "metadata": {},
   "outputs": [
    {
     "name": "stdout",
     "output_type": "stream",
     "text": [
      "9\n"
     ]
    }
   ],
   "source": [
    "a=3\n",
    "print(a**2)"
   ]
  },
  {
   "cell_type": "code",
   "execution_count": 8,
   "metadata": {},
   "outputs": [
    {
     "name": "stdout",
     "output_type": "stream",
     "text": [
      "2.0\n"
     ]
    }
   ],
   "source": [
    "a=4\n",
    "print(a**0.5)"
   ]
  },
  {
   "cell_type": "code",
   "execution_count": 10,
   "metadata": {},
   "outputs": [
    {
     "name": "stdout",
     "output_type": "stream",
     "text": [
      "<class 'str'>\n"
     ]
    }
   ],
   "source": [
    "name='abhijeet'\n",
    "len(name)\n",
    "print(type(name))"
   ]
  },
  {
   "cell_type": "code",
   "execution_count": 11,
   "metadata": {},
   "outputs": [
    {
     "name": "stdout",
     "output_type": "stream",
     "text": [
      "Abhijeet\n",
      "ABHIJEET\n",
      "5\n",
      "abh\n",
      "teejihba\n"
     ]
    }
   ],
   "source": [
    "print(name.capitalize())\n",
    "print(name.upper())\n",
    "print(name.find('e'))\n",
    "print(name[0:3])\n",
    "print(name[::-1])"
   ]
  },
  {
   "cell_type": "code",
   "execution_count": 32,
   "metadata": {},
   "outputs": [
    {
     "name": "stdout",
     "output_type": "stream",
     "text": [
      "[12, 12, 3, 45, 6, 8, 9, 90]\n",
      "[3, 6, 8, 20, 12, 12, 45, 90, 3, 6, 8, 20, 12, 12, 45, 90]\n",
      "[3, 6, 8, 20, 12, 12, 45, 90]\n",
      "<class 'list'>\n"
     ]
    }
   ],
   "source": [
    "list1=[12,12,3,45,6,8,9,90]\n",
    "list2=list1[2]*2\n",
    "print(list1)\n",
    "list1.sort()\n",
    "list1[3]=20\n",
    "print(list1*2)\n",
    "print(list1)\n",
    "print(type(list1))"
   ]
  },
  {
   "cell_type": "code",
   "execution_count": 12,
   "metadata": {},
   "outputs": [
    {
     "name": "stdout",
     "output_type": "stream",
     "text": [
      "(1, 2, 45, 2, 1)\n",
      "[1, 2, 45, 2, 1]\n",
      "range(0, 10)\n"
     ]
    }
   ],
   "source": [
    "tuples1=(1,2,45,2,1)\n",
    "print(tuples1)\n",
    "x=list(tuples1)\n",
    "print(x)\n",
    "print(range(10))\n"
   ]
  },
  {
   "cell_type": "code",
   "execution_count": 13,
   "metadata": {},
   "outputs": [
    {
     "name": "stdout",
     "output_type": "stream",
     "text": [
      "[0, 5, 10, 15, 20, 25, 30, 35, 40, 45, 50, 55, 60, 65, 70, 75, 80, 85, 90, 95]\n",
      "(0, 5, 10, 15, 20, 25, 30, 35, 40, 45, 50, 55, 60, 65, 70, 75, 80, 85, 90, 95)\n"
     ]
    }
   ],
   "source": [
    "list2=[x for x in range(0,100,5)]\n",
    "print(list2)\n",
    "tuple2=tuple(list2)\n",
    "print(tuple2)"
   ]
  },
  {
   "cell_type": "code",
   "execution_count": 14,
   "metadata": {},
   "outputs": [
    {
     "name": "stdout",
     "output_type": "stream",
     "text": [
      "{1, 2, 3}\n",
      "{1, 2, 3, 5}\n"
     ]
    }
   ],
   "source": [
    "sets={1,2,3,2}\n",
    "print(sets)\n",
    "sets.add(5)\n",
    "print(sets)"
   ]
  },
  {
   "cell_type": "markdown",
   "metadata": {},
   "source": [
    "DIctionary\n"
   ]
  },
  {
   "cell_type": "code",
   "execution_count": 15,
   "metadata": {},
   "outputs": [
    {
     "name": "stdout",
     "output_type": "stream",
     "text": [
      "{'name': 'Abhijeet jadhav', 'age': '19'}\n",
      "{'name': 'abhi', 'age': [20, 30]}\n",
      "dict_keys(['name', 'age'])\n",
      "dict_items([('name', 'abhi'), ('age', [20, 30])])\n",
      "dict_values(['Abhijeet jadhav', '19'])\n",
      "Abhijeet jadhav\n"
     ]
    }
   ],
   "source": [
    "dict1={\"name\":\"Abhijeet jadhav\",\n",
    "       \"age\":\"19\"}\n",
    "print(dict1)\n",
    "dict2=dict(name=\"abhi\",age=[20,30])\n",
    "print(dict2)\n",
    "print(dict1.keys())\n",
    "print(dict2.items())\n",
    "print(dict1.values())\n",
    "print(dict1.get('name'))"
   ]
  },
  {
   "cell_type": "code",
   "execution_count": 16,
   "metadata": {},
   "outputs": [
    {
     "name": "stdout",
     "output_type": "stream",
     "text": [
      "hello\n"
     ]
    }
   ],
   "source": [
    "a =10\n",
    "if a>20 or a>5:\n",
    "    print(\"hello\")\n",
    "else:\n",
    "    print(\"world\")"
   ]
  },
  {
   "cell_type": "code",
   "execution_count": 17,
   "metadata": {},
   "outputs": [
    {
     "name": "stdout",
     "output_type": "stream",
     "text": [
      "[0, 1] [0, 2, 4, 6, 8, 10]\n",
      "error\n"
     ]
    }
   ],
   "source": [
    "list1=[x for x in range(0,int(input(\"number\")))]\n",
    "list2=[x for x in range(0,11,2)]\n",
    "print(list1,list2)\n",
    "for x in range(10):\n",
    "    if list2[x]!=list1[x]:\n",
    "        print(\"error\")\n",
    "        break"
   ]
  },
  {
   "cell_type": "code",
   "execution_count": 18,
   "metadata": {},
   "outputs": [
    {
     "name": "stdout",
     "output_type": "stream",
     "text": [
      "0\n",
      "1\n",
      "2\n",
      "3\n",
      "4\n",
      "5\n",
      "6\n",
      "7\n",
      "8\n",
      "9\n"
     ]
    },
    {
     "data": {
      "text/plain": [
       "3.7416573867739413"
      ]
     },
     "execution_count": 18,
     "metadata": {},
     "output_type": "execute_result"
    }
   ],
   "source": [
    "for x in range(0,10):\n",
    "    print(x)\n",
    "list2=[x for x in range(0,11,2)]\n",
    "stat.stdev(list2)"
   ]
  },
  {
   "cell_type": "code",
   "execution_count": 19,
   "metadata": {},
   "outputs": [
    {
     "name": "stdout",
     "output_type": "stream",
     "text": [
      "hijeet\n"
     ]
    }
   ],
   "source": [
    "str1='abhijeet'\n",
    "print(str1[2:])"
   ]
  },
  {
   "cell_type": "code",
   "execution_count": 23,
   "metadata": {},
   "outputs": [
    {
     "name": "stdout",
     "output_type": "stream",
     "text": [
      "aa\n",
      "2\n",
      "AA\n",
      "aa\n",
      "aa\n",
      "a\n",
      "bb\n",
      "['aa']\n",
      "aa\n"
     ]
    },
    {
     "data": {
      "text/plain": [
       "False"
      ]
     },
     "execution_count": 23,
     "metadata": {},
     "output_type": "execute_result"
    }
   ],
   "source": [
    "str2=input(\"enter name\")\n",
    "print(str2)\n",
    "print(len(str2))\n",
    "print(str2.upper())\n",
    "print(str2.lower())\n",
    "print(str2[:4])\n",
    "print(str2[:-1])\n",
    "print(str2.replace('a','b'))\n",
    "print(str2.split(','))\n",
    "print(str2.strip())\n",
    "str2.startswith('ab')"
   ]
  },
  {
   "cell_type": "code",
   "execution_count": 24,
   "metadata": {},
   "outputs": [],
   "source": [
    "def addition(a,b):\n",
    "    return a+b"
   ]
  },
  {
   "cell_type": "code",
   "execution_count": 25,
   "metadata": {},
   "outputs": [
    {
     "data": {
      "text/plain": [
       "8"
      ]
     },
     "execution_count": 25,
     "metadata": {},
     "output_type": "execute_result"
    }
   ],
   "source": [
    "addition(3,5)"
   ]
  },
  {
   "cell_type": "code",
   "execution_count": 26,
   "metadata": {},
   "outputs": [
    {
     "name": "stdout",
     "output_type": "stream",
     "text": [
      "0\n",
      "2\n",
      "4\n",
      "6\n",
      "8\n",
      "10\n",
      "12\n",
      "14\n",
      "16\n",
      "18\n",
      "20\n",
      "22\n",
      "24\n",
      "26\n",
      "28\n",
      "30\n",
      "32\n",
      "34\n",
      "36\n",
      "38\n",
      "40\n",
      "42\n",
      "44\n",
      "46\n",
      "48\n",
      "50\n",
      "52\n",
      "54\n",
      "56\n",
      "58\n",
      "60\n",
      "62\n",
      "64\n",
      "66\n",
      "68\n",
      "70\n",
      "72\n",
      "74\n",
      "76\n",
      "78\n",
      "80\n",
      "82\n",
      "84\n",
      "86\n",
      "88\n",
      "90\n",
      "92\n",
      "94\n",
      "96\n",
      "98\n",
      "100\n"
     ]
    }
   ],
   "source": [
    "list1=[x for x in range(0,101,2)]\n",
    "for x in list1:\n",
    "    print(x)"
   ]
  },
  {
   "cell_type": "code",
   "execution_count": 34,
   "metadata": {},
   "outputs": [
    {
     "name": "stdout",
     "output_type": "stream",
     "text": [
      "['fgvnj']\n",
      "fgvnj\n"
     ]
    }
   ],
   "source": [
    "string=input(\"enter names with comma\")\n",
    "string=list(string.split(','))\n",
    "print(string)\n",
    "for x in string:\n",
    "    print(x)"
   ]
  },
  {
   "cell_type": "code",
   "execution_count": 28,
   "metadata": {},
   "outputs": [],
   "source": [
    "def rev(str):\n",
    "    return str[::-1]"
   ]
  },
  {
   "cell_type": "code",
   "execution_count": 29,
   "metadata": {},
   "outputs": [
    {
     "data": {
      "text/plain": [
       "'teejihba'"
      ]
     },
     "execution_count": 29,
     "metadata": {},
     "output_type": "execute_result"
    }
   ],
   "source": [
    "rev(\"abhijeet\")"
   ]
  },
  {
   "cell_type": "code",
   "execution_count": 30,
   "metadata": {},
   "outputs": [
    {
     "name": "stdout",
     "output_type": "stream",
     "text": [
      "name is a and surname is a\n"
     ]
    }
   ],
   "source": [
    "name=input(\"enter name\")\n",
    "surname=input(\"enter surname\")\n",
    "print(\"name is {} and surname is {}\".format(name,surname))"
   ]
  },
  {
   "cell_type": "code",
   "execution_count": 31,
   "metadata": {},
   "outputs": [
    {
     "name": "stdout",
     "output_type": "stream",
     "text": [
      "0\n"
     ]
    }
   ],
   "source": [
    "x =int(input(\"enter number\"))\n",
    "y=0\n",
    "if x<=5.5:\n",
    "    y=0\n",
    "else:\n",
    "    y=1\n",
    "print(y)"
   ]
  },
  {
   "cell_type": "code",
   "execution_count": 32,
   "metadata": {},
   "outputs": [
    {
     "name": "stdout",
     "output_type": "stream",
     "text": [
      "x y\n",
      "0 0\n",
      "1 0\n",
      "2 0\n",
      "3 0\n",
      "4 0\n",
      "5 0\n",
      "6 1\n",
      "7 1\n",
      "8 1\n",
      "9 1\n",
      "10 1\n",
      "11 1\n",
      "12 1\n",
      "13 1\n",
      "14 1\n"
     ]
    }
   ],
   "source": [
    "list1=[x for x in range(15)]\n",
    "list2=[]\n",
    "for x in list1:\n",
    "    y=0\n",
    "    if x<=5.5:\n",
    "        y=0\n",
    "    else:\n",
    "        y=1\n",
    "    list2.append(y)\n",
    "print('x y')\n",
    "for x,y in zip(list1,list2):\n",
    "    print(x,y)"
   ]
  },
  {
   "cell_type": "code",
   "execution_count": 33,
   "metadata": {},
   "outputs": [
    {
     "name": "stdout",
     "output_type": "stream",
     "text": [
      "ewgweugfis\n"
     ]
    }
   ],
   "source": [
    "x =open('test.txt','r')\n",
    "for y in x:\n",
    "    print(y)"
   ]
  },
  {
   "cell_type": "code",
   "execution_count": 74,
   "metadata": {},
   "outputs": [],
   "source": [
    "def calculator(a,b,c):\n",
    "    if b=='+':\n",
    "        return a+c\n",
    "    elif b=='-':\n",
    "        return a-c\n",
    "    elif b=='*':\n",
    "        return a*c\n",
    "    elif b=='/':\n",
    "        return a/c"
   ]
  },
  {
   "cell_type": "code",
   "execution_count": 75,
   "metadata": {},
   "outputs": [
    {
     "name": "stdout",
     "output_type": "stream",
     "text": [
      "wrong\n"
     ]
    }
   ],
   "source": [
    "a,c=int(input(\"enter number1\")),int(input(\"enter number2\"))\n",
    "b=input(\"enter operation\")\n",
    "if calculator(a,b,c)==10:\n",
    "    print(\"correct\")\n",
    "else:\n",
    "    print('wrong')"
   ]
  },
  {
   "cell_type": "code",
   "execution_count": 35,
   "metadata": {},
   "outputs": [
    {
     "name": "stdout",
     "output_type": "stream",
     "text": [
      "[4, 2, 5, 9, 32, 5, 6, 5, 8]\n"
     ]
    }
   ],
   "source": [
    "list1=[1,2,4,5,7,4,6,2,1]\n",
    "list2=[4,2,5,9,32,5,1,5,8]\n",
    "list3=[]\n",
    "for x in range(len(list1)):\n",
    "    if list1[x]>list2[x]:\n",
    "        list3.append(list1[x])\n",
    "    else:\n",
    "        list3.append(list2[x])\n",
    "print(list3)"
   ]
  },
  {
   "cell_type": "code",
   "execution_count": 37,
   "metadata": {},
   "outputs": [],
   "source": [
    "def name():\n",
    "    print('hi')"
   ]
  },
  {
   "cell_type": "code",
   "execution_count": 38,
   "metadata": {},
   "outputs": [
    {
     "name": "stdout",
     "output_type": "stream",
     "text": [
      "hi\n"
     ]
    }
   ],
   "source": [
    "name()"
   ]
  },
  {
   "cell_type": "code",
   "execution_count": 39,
   "metadata": {},
   "outputs": [
    {
     "name": "stdout",
     "output_type": "stream",
     "text": [
      "(10, 20, 30)\n"
     ]
    }
   ],
   "source": [
    "def argument(*x):\n",
    "    print(x)\n",
    "argument(10,20,30)"
   ]
  },
  {
   "cell_type": "code",
   "execution_count": 40,
   "metadata": {},
   "outputs": [
    {
     "name": "stdout",
     "output_type": "stream",
     "text": [
      "(4, 0)\n"
     ]
    }
   ],
   "source": [
    "def test(x):\n",
    "    return x+2,x-2\n",
    "print(test(2))"
   ]
  },
  {
   "cell_type": "code",
   "execution_count": 33,
   "metadata": {
    "tags": []
   },
   "outputs": [
    {
     "name": "stdout",
     "output_type": "stream",
     "text": [
      "{1, 2, 3}\n",
      "{3, 4, 5}\n",
      "{1, 2, 3, 4, 5}\n",
      "{1, 2}\n",
      "{1, 2, 3}\n",
      "{2, 3, 4, 5}\n",
      "{1, 2, 3, 4, 5, 6}\n",
      "[1, 2, 3, 4, 5, 6]\n"
     ]
    }
   ],
   "source": [
    "set1={1,2,3,}\n",
    "set2={3,4,5}\n",
    "set3={1,2}\n",
    "print(set1)\n",
    "print(set2)\n",
    "set1=set1.union(set2)\n",
    "print(set1)\n",
    "set3=set3.intersection(set1)\n",
    "print(set3)\n",
    "set3.add(3)\n",
    "print(set3)\n",
    "set1.remove(1)     #error raise if not preset\n",
    "set1.discard(10)  #no error upadation\n",
    "print(set1)\n",
    "list1=[1,2,3,4,5,6,2,3,2,2,2,2]\n",
    "set4=set(list1)\n",
    "print(set4)\n",
    "list1=list(set4)\n",
    "print(list1)"
   ]
  },
  {
   "cell_type": "code",
   "execution_count": 42,
   "metadata": {},
   "outputs": [
    {
     "name": "stdout",
     "output_type": "stream",
     "text": [
      "7\n",
      "4\n",
      "Computer Won\n"
     ]
    }
   ],
   "source": [
    "import random\n",
    "\n",
    "computer=random.randint(1,9)\n",
    "\n",
    "userinput=int(input(\" Enter the number between 1 and 9\"))\n",
    "print (computer)\n",
    "\n",
    "print(userinput)\n",
    "\n",
    "if computer>userinput:\n",
    "    print(\"Computer Won\")\n",
    "\n",
    "elif computer==userinput:\n",
    "    print(\"TIE\")\n",
    "\n",
    "else:\n",
    "    print(\"You won\")"
   ]
  },
  {
   "cell_type": "code",
   "execution_count": null,
   "metadata": {},
   "outputs": [],
   "source": [
    "import random\n",
    "\n",
    "gamelist=['rock','paper','scissors']\n",
    "while(1):\n",
    "    comp=random. choice(gamelist)\n",
    "    user=input(\"Enter either rock or paper or scissors \")\n",
    "    print(user)\n",
    "    print (comp)\n",
    "    if (comp=='rock'and user=='paper') or (comp=='paper' and user=='scissors') or (comp=='scissors' and user=='rock'):\n",
    "        print('I won')\n",
    "    elif (comp==user):\n",
    "        print(\"tie\")\n",
    "    else:\n",
    "        print(\"he won\")"
   ]
  },
  {
   "cell_type": "markdown",
   "metadata": {},
   "source": [
    "spga requiremnet per sem for the target\n"
   ]
  },
  {
   "cell_type": "code",
   "execution_count": 45,
   "metadata": {},
   "outputs": [
    {
     "name": "stdout",
     "output_type": "stream",
     "text": [
      "8.22\n",
      "8.939999999999998\n"
     ]
    }
   ],
   "source": [
    "cgpa=[8.22]\n",
    "print(stat.mean(cgpa))\n",
    "target=8.7\n",
    "no_sem=2\n",
    "req=target*(len(cgpa)+no_sem)-stat.fsum(cgpa)\n",
    "print(req/no_sem)"
   ]
  },
  {
   "cell_type": "code",
   "execution_count": 6,
   "metadata": {},
   "outputs": [
    {
     "name": "stdout",
     "output_type": "stream",
     "text": [
      "2\n"
     ]
    }
   ],
   "source": [
    "list1=[1,2,4,2,1,3,4,4,4,4,4]\n",
    "print(list1.count(int(input(\"enter number u want to count\"))))"
   ]
  },
  {
   "cell_type": "code",
   "execution_count": 87,
   "metadata": {},
   "outputs": [
    {
     "name": "stdout",
     "output_type": "stream",
     "text": [
      "1\n",
      "5\n",
      "140706910868296\n",
      "<class 'list'>\n",
      "bytes= 20\n"
     ]
    }
   ],
   "source": [
    "list1=[1,2,3,4,5]\n",
    "print(list1.index(2))\n",
    "print(len(list1))\n",
    "print(id(list1[1]))\n",
    "print(type(list1))\n",
    "import numpy as np \n",
    "list1=np.array(list1)\n",
    "print(\"bytes=\",list1.size*list1.itemsize)"
   ]
  },
  {
   "cell_type": "code",
   "execution_count": 61,
   "metadata": {},
   "outputs": [],
   "source": [
    "def duplicates(list1):\n",
    "    for x in list1:\n",
    "        if list1.count(x)!=1:\n",
    "            return True\n",
    "    return False"
   ]
  },
  {
   "cell_type": "code",
   "execution_count": 62,
   "metadata": {},
   "outputs": [
    {
     "name": "stdout",
     "output_type": "stream",
     "text": [
      "False\n",
      "[5, 4, 3, 2, 1]\n"
     ]
    }
   ],
   "source": [
    "list1=[1,2,3,4,5]\n",
    "print(duplicates(list1))\n",
    "list1.reverse()\n",
    "print(list1)"
   ]
  },
  {
   "cell_type": "code",
   "execution_count": 3,
   "metadata": {},
   "outputs": [
    {
     "name": "stdout",
     "output_type": "stream",
     "text": [
      "True\n"
     ]
    }
   ],
   "source": [
    "list1=[1,2,3,4,5]\n",
    "list2=[1,2,3,4,5]\n",
    "print(list1==list2)"
   ]
  },
  {
   "cell_type": "code",
   "execution_count": 79,
   "metadata": {},
   "outputs": [
    {
     "name": "stdout",
     "output_type": "stream",
     "text": [
      "3\n"
     ]
    }
   ],
   "source": [
    "print(int(input(\"enter number1\"))+int(input(\"enter number2\")))"
   ]
  },
  {
   "cell_type": "code",
   "execution_count": 84,
   "metadata": {},
   "outputs": [
    {
     "name": "stdout",
     "output_type": "stream",
     "text": [
      "0\n",
      "1\n",
      "2\n",
      "3\n",
      "4\n",
      "5\n",
      "6\n",
      "7\n",
      "8\n",
      "9\n",
      "10\n",
      "11\n",
      "12\n",
      "13\n",
      "14\n",
      "15\n",
      "16\n",
      "17\n",
      "18\n",
      "19\n",
      "20\n",
      "21\n",
      "22\n",
      "23\n",
      "24\n",
      "25\n",
      "26\n",
      "27\n",
      "28\n",
      "29\n",
      "30\n",
      "31\n",
      "32\n",
      "33\n",
      "34\n",
      "35\n",
      "36\n",
      "37\n",
      "38\n",
      "39\n",
      "40\n",
      "41\n",
      "42\n",
      "43\n",
      "44\n",
      "45\n",
      "46\n",
      "47\n",
      "48\n",
      "49\n",
      "50\n",
      "51\n",
      "52\n",
      "53\n",
      "54\n",
      "55\n",
      "56\n",
      "57\n",
      "58\n",
      "59\n",
      "60\n",
      "61\n",
      "62\n",
      "63\n",
      "64\n",
      "65\n",
      "66\n",
      "67\n",
      "68\n",
      "69\n",
      "70\n",
      "71\n",
      "72\n",
      "73\n",
      "74\n",
      "75\n",
      "76\n",
      "77\n",
      "78\n",
      "79\n",
      "80\n",
      "81\n",
      "82\n",
      "83\n",
      "84\n",
      "85\n",
      "86\n",
      "87\n",
      "88\n",
      "89\n",
      "90\n",
      "91\n",
      "92\n",
      "93\n",
      "94\n",
      "95\n",
      "96\n",
      "97\n",
      "98\n",
      "99\n"
     ]
    }
   ],
   "source": [
    "for x in range(100):\n",
    "    print(x)"
   ]
  },
  {
   "cell_type": "code",
   "execution_count": 2,
   "metadata": {},
   "outputs": [
    {
     "name": "stdout",
     "output_type": "stream",
     "text": [
      "[2, 3, 4]\n"
     ]
    }
   ],
   "source": [
    "n=int(input(\"Enter number of values\"))\n",
    "list1=[]\n",
    "for x in range(n):\n",
    "    list1.append(int(input(\"enter number\")))\n",
    "print(list1)"
   ]
  },
  {
   "cell_type": "code",
   "execution_count": 5,
   "metadata": {},
   "outputs": [
    {
     "name": "stdout",
     "output_type": "stream",
     "text": [
      "12 x 1 = 12\n",
      "12 x 2 = 24\n",
      "12 x 3 = 36\n",
      "12 x 4 = 48\n",
      "12 x 5 = 60\n",
      "12 x 6 = 72\n",
      "12 x 7 = 84\n",
      "12 x 8 = 96\n",
      "12 x 9 = 108\n",
      "12 x 10 = 120\n"
     ]
    }
   ],
   "source": [
    "n=int(input(\"Enter number\"))\n",
    "for x in range(1,11):\n",
    "    print(f\"{n} x {x} = {n*x}\")"
   ]
  },
  {
   "cell_type": "code",
   "execution_count": 14,
   "metadata": {},
   "outputs": [
    {
     "name": "stdout",
     "output_type": "stream",
     "text": [
      "cat mat \n",
      "\n",
      "hen man "
     ]
    }
   ],
   "source": [
    "list1=['cat','mat','hen','man']\n",
    "n=int(input(\"Enter number\"))\n",
    "for x in range(len(list1)):\n",
    "    if x == n:\n",
    "        break\n",
    "    print(list1[x],end=\" \")\n",
    "print('\\n')\n",
    "for x in range(len(list1)):\n",
    "    if x >= n:\n",
    "        print(list1[x],end=\" \")\n"
   ]
  },
  {
   "cell_type": "code",
   "execution_count": 20,
   "metadata": {},
   "outputs": [
    {
     "name": "stdout",
     "output_type": "stream",
     "text": [
      "cat mat \n",
      "\n",
      "['hen', 'man']\n"
     ]
    }
   ],
   "source": [
    "list1=['cat','mat','hen','man']\n",
    "name=input('enter element')\n",
    "for x in list1:\n",
    "    if name == x:\n",
    "        break\n",
    "    print(x,end=\" \")\n",
    "print('\\n')\n",
    "for x,y in enumerate(list1):\n",
    "    if name == y:\n",
    "        break\n",
    "print(list1[x:])\n"
   ]
  },
  {
   "cell_type": "code",
   "execution_count": 8,
   "metadata": {},
   "outputs": [
    {
     "name": "stdout",
     "output_type": "stream",
     "text": [
      "[6, 5, 3, 1]\n"
     ]
    }
   ],
   "source": [
    "list1=[5,6,1,3]\n",
    "list1.sort()\n",
    "print(list1[::-1])"
   ]
  }
 ],
 "metadata": {
  "kernelspec": {
   "display_name": "Python 3",
   "language": "python",
   "name": "python3"
  },
  "language_info": {
   "codemirror_mode": {
    "name": "ipython",
    "version": 3
   },
   "file_extension": ".py",
   "mimetype": "text/x-python",
   "name": "python",
   "nbconvert_exporter": "python",
   "pygments_lexer": "ipython3",
   "version": "3.11.4"
  },
  "orig_nbformat": 4
 },
 "nbformat": 4,
 "nbformat_minor": 2
}
