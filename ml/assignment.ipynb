{
 "cells": [
  {
   "cell_type": "code",
   "execution_count": null,
   "metadata": {},
   "outputs": [],
   "source": [
    "import statistics as stat"
   ]
  },
  {
   "cell_type": "code",
   "execution_count": null,
   "metadata": {},
   "outputs": [],
   "source": [
    "print(\"Hello world\")"
   ]
  },
  {
   "cell_type": "code",
   "execution_count": null,
   "metadata": {},
   "outputs": [],
   "source": [
    "a=1\n",
    "b=2\n",
    "c=3\n",
    "print(a-b)\n",
    "print(b-c)\n",
    "print(a-c)"
   ]
  },
  {
   "cell_type": "code",
   "execution_count": null,
   "metadata": {},
   "outputs": [],
   "source": [
    "a=input(\"enter name\")\n",
    "print(a)"
   ]
  },
  {
   "cell_type": "code",
   "execution_count": null,
   "metadata": {},
   "outputs": [],
   "source": [
    "a=2\n",
    "b=3\n",
    "print(a*b)"
   ]
  },
  {
   "cell_type": "code",
   "execution_count": null,
   "metadata": {},
   "outputs": [],
   "source": [
    "a=20\n",
    "b=15\n",
    "print(a//b)\n",
    "print(a/b)\n",
    "print(a%b)"
   ]
  },
  {
   "cell_type": "code",
   "execution_count": null,
   "metadata": {},
   "outputs": [],
   "source": [
    "a=3\n",
    "print(a**2)"
   ]
  },
  {
   "cell_type": "code",
   "execution_count": null,
   "metadata": {},
   "outputs": [],
   "source": [
    "a=4\n",
    "print(a**0.5)"
   ]
  },
  {
   "cell_type": "code",
   "execution_count": null,
   "metadata": {},
   "outputs": [],
   "source": [
    "name='abhijeet'\n",
    "len(name)\n",
    "print(type(name))"
   ]
  },
  {
   "cell_type": "code",
   "execution_count": null,
   "metadata": {},
   "outputs": [],
   "source": [
    "print(name.capitalize())\n",
    "print(name.upper())\n",
    "print(name.find('e'))\n",
    "print(name[0:3])"
   ]
  },
  {
   "cell_type": "code",
   "execution_count": null,
   "metadata": {},
   "outputs": [],
   "source": [
    "list1=[12,12,3,45,6,8,9,90]\n",
    "print(list1)\n",
    "list1.sort()\n",
    "list1[3]=20\n",
    "print(list1*2)\n",
    "print(list1)\n",
    "print(type(list1))"
   ]
  },
  {
   "cell_type": "code",
   "execution_count": null,
   "metadata": {},
   "outputs": [],
   "source": [
    "tuples1=(1,2,45,2,1)\n",
    "print(tuples1)\n",
    "x=list(tuples1)\n",
    "print(x)\n",
    "print(range(10))\n"
   ]
  },
  {
   "cell_type": "code",
   "execution_count": null,
   "metadata": {},
   "outputs": [],
   "source": [
    "list2=[x for x in range(0,100,5)]\n",
    "print(list2)\n",
    "tuple2=tuple(list2)\n",
    "print(tuple2)"
   ]
  },
  {
   "cell_type": "code",
   "execution_count": null,
   "metadata": {},
   "outputs": [],
   "source": [
    "sets={1,2,3,2}\n",
    "print(sets)\n",
    "sets.add(5)\n",
    "print(sets)"
   ]
  },
  {
   "cell_type": "markdown",
   "metadata": {},
   "source": [
    "DIctionary\n"
   ]
  },
  {
   "cell_type": "code",
   "execution_count": null,
   "metadata": {},
   "outputs": [],
   "source": [
    "dict1={\"name\":\"Abhijeet jadhav\",\n",
    "       \"age\":\"19\"}\n",
    "print(dict1)\n",
    "dict2=dict(name=\"abhi\",age=[20,30])\n",
    "print(dict2)\n",
    "print(dict1.keys())\n",
    "print(dict2.items())\n",
    "print(dict1.values())\n",
    "print(dict1.get('name'))\n"
   ]
  },
  {
   "cell_type": "code",
   "execution_count": null,
   "metadata": {},
   "outputs": [],
   "source": [
    "a =10\n",
    "if a>20 or a>5:\n",
    "    print(\"hello\")\n",
    "else:\n",
    "    print(\"world\")"
   ]
  },
  {
   "cell_type": "code",
   "execution_count": null,
   "metadata": {},
   "outputs": [],
   "source": [
    "list1=[x for x in range(0,int(input(\"number\")))]\n",
    "list2=[x for x in range(0,11,2)]\n",
    "print(list1,list2)\n",
    "for x in range(10):\n",
    "    if list2[x]!=list1[x]:\n",
    "        print(\"error\")\n",
    "        break"
   ]
  },
  {
   "cell_type": "code",
   "execution_count": null,
   "metadata": {},
   "outputs": [],
   "source": [
    "for x in range(0,10):\n",
    "    print(x)\n",
    "list2=[x for x in range(0,11,2)]\n",
    "stat.stdev(list2)"
   ]
  },
  {
   "cell_type": "code",
   "execution_count": null,
   "metadata": {},
   "outputs": [],
   "source": [
    "str1='abhijeet'\n",
    "print(str1[2:])"
   ]
  },
  {
   "cell_type": "code",
   "execution_count": null,
   "metadata": {},
   "outputs": [],
   "source": [
    "str2=input(\"enter name\")\n",
    "print(str2)\n",
    "print(len(str2))\n",
    "print(str2.upper())\n",
    "print(str2.lower())\n",
    "print(str2[:4])\n",
    "print(str2[:-1])\n",
    "print(str2.replace('a','b'))\n",
    "print(str2.split(','))\n",
    "print(str2.strip())\n",
    "str2.startswith('ab')\n",
    "str2."
   ]
  },
  {
   "cell_type": "code",
   "execution_count": null,
   "metadata": {},
   "outputs": [],
   "source": [
    "def addition(a,b):\n",
    "    return a+b"
   ]
  },
  {
   "cell_type": "code",
   "execution_count": null,
   "metadata": {},
   "outputs": [],
   "source": [
    "addition(3,5)"
   ]
  },
  {
   "cell_type": "code",
   "execution_count": null,
   "metadata": {},
   "outputs": [],
   "source": [
    "list1=[x for x in range(0,101,2)]\n",
    "for x in list1:\n",
    "    print(x)"
   ]
  },
  {
   "cell_type": "code",
   "execution_count": null,
   "metadata": {},
   "outputs": [],
   "source": [
    "string=input(\"enter names with comma\")\n",
    "string=list(string.split(','))\n",
    "print(string)\n",
    "for x in string:\n",
    "    print(x)"
   ]
  },
  {
   "cell_type": "code",
   "execution_count": null,
   "metadata": {},
   "outputs": [],
   "source": [
    "def rev(str):\n",
    "    return str[::-1]"
   ]
  },
  {
   "cell_type": "code",
   "execution_count": null,
   "metadata": {},
   "outputs": [],
   "source": [
    "rev(\"abhijeet\")"
   ]
  },
  {
   "cell_type": "code",
   "execution_count": null,
   "metadata": {},
   "outputs": [],
   "source": [
    "name=input(\"enter name\")\n",
    "surname=input(\"enter surname\")\n",
    "print(\"name is {} and surname is {}\".format(name,surname))"
   ]
  },
  {
   "cell_type": "code",
   "execution_count": null,
   "metadata": {},
   "outputs": [],
   "source": [
    "x =int(input(\"enter number\"))\n",
    "y=0\n",
    "if x<=5.5:\n",
    "    y=0\n",
    "else:\n",
    "    y=1\n",
    "print(y)"
   ]
  },
  {
   "cell_type": "code",
   "execution_count": null,
   "metadata": {},
   "outputs": [],
   "source": [
    "list1=[x for x in range(15)]\n",
    "list2=[]\n",
    "for x in list1:\n",
    "    y=0\n",
    "    if x<=5.5:\n",
    "        y=0\n",
    "    else:\n",
    "        y=1\n",
    "    list2.append(y)\n",
    "print('x y')\n",
    "for x,y in zip(list1,list2):\n",
    "    print(x,y)"
   ]
  },
  {
   "cell_type": "code",
   "execution_count": null,
   "metadata": {},
   "outputs": [],
   "source": [
    "x =open('test.txt','r')\n",
    "for y in x:\n",
    "    print(y)"
   ]
  },
  {
   "cell_type": "code",
   "execution_count": null,
   "metadata": {},
   "outputs": [],
   "source": [
    "def calculator(a,b,c):\n",
    "    if b=='+':\n",
    "        return a+c\n",
    "    elif b=='-':\n",
    "        return a-c\n",
    "    elif b=='*':\n",
    "        return a*c\n",
    "    elif b=='/':\n",
    "        return a/c"
   ]
  },
  {
   "cell_type": "code",
   "execution_count": null,
   "metadata": {},
   "outputs": [],
   "source": [
    "a,c=int(input(\"enter number1\")),int(input(\"enter number2\"))\n",
    "b=input(\"enter operation\")\n",
    "if calculator(a,b,c)==10:\n",
    "    print(\"correct\")\n",
    "else:\n",
    "    print('wrong')"
   ]
  },
  {
   "cell_type": "code",
   "execution_count": null,
   "metadata": {},
   "outputs": [],
   "source": [
    "list1=[1,2,4,5,7,4,6,2,1]\n",
    "list2=[4,2,5,9,32,5,1,5,8]\n",
    "list3=[]\n",
    "for x in range(len(list1)):\n",
    "    if list1[x]>list2[x]:\n",
    "        list3.append(list1[x])\n",
    "    else:\n",
    "        list3.append(list2[x])\n",
    "print(list3)\n",
    "        "
   ]
  },
  {
   "cell_type": "code",
   "execution_count": null,
   "metadata": {},
   "outputs": [],
   "source": [
    "def name():\n",
    "    print('hi')"
   ]
  },
  {
   "cell_type": "code",
   "execution_count": null,
   "metadata": {},
   "outputs": [],
   "source": [
    "name()"
   ]
  },
  {
   "cell_type": "code",
   "execution_count": null,
   "metadata": {},
   "outputs": [],
   "source": [
    "def argument(*x):\n",
    "    print(x)\n",
    "argument(10,20,30)"
   ]
  },
  {
   "cell_type": "code",
   "execution_count": null,
   "metadata": {},
   "outputs": [],
   "source": [
    "def test(x):\n",
    "    return x+2,x-2\n",
    "print(test(2))"
   ]
  },
  {
   "cell_type": "code",
   "execution_count": null,
   "metadata": {
    "tags": []
   },
   "outputs": [],
   "source": [
    "set1={1,2,3,1,2}\n",
    "set2={3,4,5,1,2}\n",
    "set3={1,2}\n",
    "print(set1)\n",
    "print(set2)\n",
    "set1=set1.union(set2)\n",
    "print(set1)\n",
    "set3=set3.intersection(set1)\n",
    "print(set3)\n",
    "set3.add(3)\n",
    "print(set3)\n",
    "set1.remove(1)     #error raise if not preset\n",
    "set1.discard(10)  #no error upadation\n",
    "print(set1)\n",
    "list1=[1,2,3,4,5,6,2,3,2,2,2,2]\n",
    "set4=set(list1)\n",
    "print(set4)\n",
    "list1=list(set4)\n",
    "print(list1)"
   ]
  },
  {
   "cell_type": "code",
   "execution_count": null,
   "metadata": {},
   "outputs": [],
   "source": [
    "import random\n",
    "\n",
    "computer=random.randint(1,9)\n",
    "\n",
    "userinput=int(input(\" Enter the number between 1 and 9\"))\n",
    "print (computer)\n",
    "\n",
    "print(userinput)\n",
    "\n",
    "if computer>userinput:\n",
    "    print(\"Computer Won\")\n",
    "\n",
    "elif computer==userinput:\n",
    "    print(\"TIE\")\n",
    "\n",
    "else:\n",
    "    print(\"You won\")"
   ]
  },
  {
   "cell_type": "code",
   "execution_count": null,
   "metadata": {},
   "outputs": [],
   "source": [
    "import random\n",
    "\n",
    "gamelist=['rock','paper','scissors']\n",
    "\n",
    "print(user)\n",
    "while(1):\n",
    "    comp=random. choice(gamelist)\n",
    "    user=input(\"Enter either rock or paper or scissors \")\n",
    "    print (comp)\n",
    "    if (comp=='rock'and user=='paper') or (comp=='paper' and user=='scissors') or (comp=='scissors' and user=='rock'):\n",
    "        print('I won')\n",
    "    elif (comp==user):\n",
    "        print(\"tie\")\n",
    "    else:\n",
    "        print(\"he won\")"
   ]
  },
  {
   "cell_type": "markdown",
   "metadata": {},
   "source": [
    "spga requiremnet per sem for the target\n"
   ]
  },
  {
   "cell_type": "code",
   "execution_count": null,
   "metadata": {},
   "outputs": [],
   "source": [
    "cgpa=[8.22]\n",
    "print(stat.mean(cgpa))\n",
    "target=8.7\n",
    "no_sem=2\n",
    "req=target*(len(cgpa)+no_sem)-stat.fsum(cgpa)\n",
    "print(req/no_sem)"
   ]
  }
 ],
 "metadata": {
  "kernelspec": {
   "display_name": "Python 3",
   "language": "python",
   "name": "python3"
  },
  "language_info": {
   "codemirror_mode": {
    "name": "ipython",
    "version": 3
   },
   "file_extension": ".py",
   "mimetype": "text/x-python",
   "name": "python",
   "nbconvert_exporter": "python",
   "pygments_lexer": "ipython3",
   "version": "3.11.4"
  },
  "orig_nbformat": 4
 },
 "nbformat": 4,
 "nbformat_minor": 2
}
