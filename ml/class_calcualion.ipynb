{
 "cells": [
  {
   "cell_type": "code",
   "execution_count": 1,
   "metadata": {},
   "outputs": [],
   "source": [
    "import numpy as np"
   ]
  },
  {
   "cell_type": "code",
   "execution_count": null,
   "metadata": {},
   "outputs": [],
   "source": [
    "x_data=np.array([0.1,0.2,0.3,0.4])\n",
    "y_data=np.array([2,3,4,5])\n",
    "w1=30\n",
    "b=3"
   ]
  },
  {
   "cell_type": "code",
   "execution_count": null,
   "metadata": {},
   "outputs": [],
   "source": [
    "learning_rate=0.01\n",
    "def cost_function(x,y,w1,b):\n",
    "    m=len(x_data)\n",
    "    predicted=w1*x+b\n",
    "    error=predicted-y\n",
    "    cost = (1 / (2 * m)) * np.sum(error**2)\n",
    "    return cost"
   ]
  },
  {
   "cell_type": "code",
   "execution_count": null,
   "metadata": {},
   "outputs": [],
   "source": [
    "m = len(x_data)\n",
    "epochs=10\n",
    "for iteration in range(epochs):\n",
    "    predictions = b + w1 * x_data\n",
    "    error = predictions - y_data\n",
    "    df_b = (1 / m) * np.sum(error)\n",
    "    df_w = (1 / m) * np.sum(error * x_data)\n",
    "    b -= learning_rate * df_b\n",
    "    w1 -= learning_rate * df_w\n",
    "    print(w1,b)\n",
    "cost = cost_function(x_data, y_data, w1, b)\n",
    "print(f\"Iteration {iteration}, Cost: {cost}\")\n",
    "\n",
    "print(w1,b)"
   ]
  }
 ],
 "metadata": {
  "kernelspec": {
   "display_name": "jupyter",
   "language": "python",
   "name": "python3"
  },
  "language_info": {
   "codemirror_mode": {
    "name": "ipython",
    "version": 3
   },
   "file_extension": ".py",
   "mimetype": "text/x-python",
   "name": "python",
   "nbconvert_exporter": "python",
   "pygments_lexer": "ipython3",
   "version": "3.11.4"
  },
  "orig_nbformat": 4
 },
 "nbformat": 4,
 "nbformat_minor": 2
}
