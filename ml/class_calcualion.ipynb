{
 "cells": [
  {
   "cell_type": "code",
   "execution_count": 15,
   "metadata": {},
   "outputs": [],
   "source": [
    "import numpy as np"
   ]
  },
  {
   "cell_type": "markdown",
   "metadata": {},
   "source": [
    "### Calculation given in class to solve\n"
   ]
  },
  {
   "cell_type": "code",
   "execution_count": 16,
   "metadata": {},
   "outputs": [],
   "source": [
    "x_data=np.array([0.1,0.2,0.3,0.4])\n",
    "y_data=np.array([2,3,4,5])\n",
    "w1=30\n",
    "b=3"
   ]
  },
  {
   "cell_type": "markdown",
   "metadata": {},
   "source": [
    "Cost Function using MSE\n"
   ]
  },
  {
   "cell_type": "code",
   "execution_count": 17,
   "metadata": {},
   "outputs": [],
   "source": [
    "learning_rate=0.01\n",
    "def cost_function(x,y,w1,b):\n",
    "    m=len(x_data)\n",
    "    predicted=w1*x+b\n",
    "    error=predicted-y\n",
    "    cost = (1 / (2 * m)) * np.sum(error**2)\n",
    "    return cost"
   ]
  },
  {
   "cell_type": "markdown",
   "metadata": {},
   "source": [
    "### Printing weights and bias after each iterations\n"
   ]
  },
  {
   "cell_type": "code",
   "execution_count": 18,
   "metadata": {},
   "outputs": [
    {
     "name": "stdout",
     "output_type": "stream",
     "text": [
      "Iteration 0, Cost: 26.472815\n",
      "29.98 2.93\n",
      "Iteration 1, Cost: 25.956770598228754\n",
      "29.96019 2.8607500000000003\n",
      "Iteration 2, Cost: 25.451631153165945\n",
      "29.9405679825 2.792242025\n",
      "Iteration 3, Cost: 24.95716600753815\n",
      "29.921131951450626 2.72446818479375\n",
      "Iteration 4, Cost: 24.473149382892878\n",
      "29.901879932025054 2.657420673067186\n",
      "Iteration 5, Cost: 23.99936027640265\n",
      "29.882809970393367 2.5910917665064517\n",
      "Iteration 6, Cost: 23.53558235985185\n",
      "29.863920133499306 2.5254738239154038\n",
      "Iteration 7, Cost: 23.081603880760124\n",
      "29.84520850883939 2.4605592853425016\n",
      "Iteration 8, Cost: 22.637217565597275\n",
      "29.826673204244404 2.396340671216978\n",
      "Iteration 9, Cost: 22.202220525045327\n",
      "29.80831234766318 2.332810581494197\n",
      "29.80831234766318 2.332810581494197\n"
     ]
    }
   ],
   "source": [
    "m = len(x_data)\n",
    "epochs=10\n",
    "for iteration in range(epochs):\n",
    "    predictions = b + w1 * x_data\n",
    "    error = predictions - y_data\n",
    "    df_b = (1 / m) * np.sum(error)\n",
    "    df_w = (1 / m) * np.sum(error * x_data)\n",
    "    b -= learning_rate * df_b\n",
    "    w1 -= learning_rate * df_w\n",
    "    cost = cost_function(x_data, y_data, w1, b)\n",
    "    print(f\"Iteration {iteration}, Cost: {cost}\")\n",
    "    print(w1,b)\n",
    "print(w1,b)"
   ]
  }
 ],
 "metadata": {
  "kernelspec": {
   "display_name": "jupyter",
   "language": "python",
   "name": "python3"
  },
  "language_info": {
   "codemirror_mode": {
    "name": "ipython",
    "version": 3
   },
   "file_extension": ".py",
   "mimetype": "text/x-python",
   "name": "python",
   "nbconvert_exporter": "python",
   "pygments_lexer": "ipython3",
   "version": "3.11.4"
  },
  "orig_nbformat": 4
 },
 "nbformat": 4,
 "nbformat_minor": 2
}
