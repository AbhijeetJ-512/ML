{
 "cells": [
  {
   "cell_type": "markdown",
   "metadata": {},
   "source": [
    "Predicting prices\n"
   ]
  },
  {
   "cell_type": "code",
   "execution_count": 1,
   "metadata": {},
   "outputs": [],
   "source": [
    "import pandas as pd\n",
    "import numpy as np\n",
    "from sklearn.linear_model import LinearRegression\n",
    "from sklearn.preprocessing import PolynomialFeatures\n",
    "from sklearn.metrics import mean_squared_error\n",
    "import matplotlib.pyplot as plt\n",
    "from mpl_toolkits.mplot3d import Axes3D"
   ]
  },
  {
   "cell_type": "code",
   "execution_count": 2,
   "metadata": {},
   "outputs": [
    {
     "data": {
      "text/html": [
       "<div>\n",
       "<style scoped>\n",
       "    .dataframe tbody tr th:only-of-type {\n",
       "        vertical-align: middle;\n",
       "    }\n",
       "\n",
       "    .dataframe tbody tr th {\n",
       "        vertical-align: top;\n",
       "    }\n",
       "\n",
       "    .dataframe thead th {\n",
       "        text-align: right;\n",
       "    }\n",
       "</style>\n",
       "<table border=\"1\" class=\"dataframe\">\n",
       "  <thead>\n",
       "    <tr style=\"text-align: right;\">\n",
       "      <th></th>\n",
       "      <th>Unnamed: 0</th>\n",
       "      <th>price</th>\n",
       "      <th>bedrooms</th>\n",
       "      <th>bathrooms</th>\n",
       "      <th>sqft</th>\n",
       "      <th>neighborhood</th>\n",
       "      <th>status</th>\n",
       "      <th>address</th>\n",
       "    </tr>\n",
       "  </thead>\n",
       "  <tbody>\n",
       "    <tr>\n",
       "      <th>0</th>\n",
       "      <td>1</td>\n",
       "      <td>4100000.0</td>\n",
       "      <td>4</td>\n",
       "      <td>5</td>\n",
       "      <td>2940.0</td>\n",
       "      <td>Park Slope</td>\n",
       "      <td>sold</td>\n",
       "      <td>336A 4th St, Brooklyn, NY 11215</td>\n",
       "    </tr>\n",
       "    <tr>\n",
       "      <th>4</th>\n",
       "      <td>5</td>\n",
       "      <td>908000.0</td>\n",
       "      <td>0</td>\n",
       "      <td>1</td>\n",
       "      <td>1066.0</td>\n",
       "      <td>Park Slope</td>\n",
       "      <td>sold</td>\n",
       "      <td>397 1st St #4R, Brooklyn, NY 11215</td>\n",
       "    </tr>\n",
       "    <tr>\n",
       "      <th>6</th>\n",
       "      <td>7</td>\n",
       "      <td>2600000.0</td>\n",
       "      <td>5</td>\n",
       "      <td>4</td>\n",
       "      <td>3600.0</td>\n",
       "      <td>Park Slope</td>\n",
       "      <td>sold</td>\n",
       "      <td>645 Carroll St, Brooklyn, NY 11215</td>\n",
       "    </tr>\n",
       "    <tr>\n",
       "      <th>7</th>\n",
       "      <td>8</td>\n",
       "      <td>4050000.0</td>\n",
       "      <td>4</td>\n",
       "      <td>4</td>\n",
       "      <td>3600.0</td>\n",
       "      <td>Park Slope</td>\n",
       "      <td>sold</td>\n",
       "      <td>538 9th St #4, Brooklyn, NY 11215</td>\n",
       "    </tr>\n",
       "    <tr>\n",
       "      <th>8</th>\n",
       "      <td>9</td>\n",
       "      <td>2400000.0</td>\n",
       "      <td>3</td>\n",
       "      <td>3</td>\n",
       "      <td>1428.0</td>\n",
       "      <td>Park Slope</td>\n",
       "      <td>sold</td>\n",
       "      <td>910 Union St #7A, Brooklyn, NY 11215</td>\n",
       "    </tr>\n",
       "  </tbody>\n",
       "</table>\n",
       "</div>"
      ],
      "text/plain": [
       "   Unnamed: 0      price  bedrooms  bathrooms    sqft neighborhood status  \\\n",
       "0           1  4100000.0         4          5  2940.0   Park Slope   sold   \n",
       "4           5   908000.0         0          1  1066.0   Park Slope   sold   \n",
       "6           7  2600000.0         5          4  3600.0   Park Slope   sold   \n",
       "7           8  4050000.0         4          4  3600.0   Park Slope   sold   \n",
       "8           9  2400000.0         3          3  1428.0   Park Slope   sold   \n",
       "\n",
       "                                address  \n",
       "0       336A 4th St, Brooklyn, NY 11215  \n",
       "4    397 1st St #4R, Brooklyn, NY 11215  \n",
       "6    645 Carroll St, Brooklyn, NY 11215  \n",
       "7     538 9th St #4, Brooklyn, NY 11215  \n",
       "8  910 Union St #7A, Brooklyn, NY 11215  "
      ]
     },
     "execution_count": 2,
     "metadata": {},
     "output_type": "execute_result"
    }
   ],
   "source": [
    "path=\"data/brooklyn_listings.csv\"\n",
    "df=pd.read_csv(path)\n",
    "df=df.dropna()\n",
    "df.head()\n",
    "#print(df.to_string())"
   ]
  },
  {
   "cell_type": "code",
   "execution_count": 14,
   "metadata": {},
   "outputs": [
    {
     "name": "stdout",
     "output_type": "stream",
     "text": [
      "[[4.000e+00 0.000e+00]\n",
      " [5.000e+00 4.000e+00]\n",
      " [3.000e+00 1.000e+00]\n",
      " ...\n",
      " [1.620e+03 8.670e+02]\n",
      " [1.492e+03 1.584e+03]\n",
      " [5.640e+02 1.470e+03]]\n",
      "0        4100000.0\n",
      "4         908000.0\n",
      "6        2600000.0\n",
      "7        4050000.0\n",
      "8        2400000.0\n",
      "           ...    \n",
      "14727     765000.0\n",
      "14728     630000.0\n",
      "14729     998000.0\n",
      "14730     830000.0\n",
      "14732     629000.0\n",
      "Name: price, Length: 12012, dtype: float64\n"
     ]
    }
   ],
   "source": [
    "x_data=np.array([df['bedrooms'],df['sqft']]).reshape(-1,2)\n",
    "print(x_data)\n",
    "y_data=df['price']\n",
    "print(y_data)"
   ]
  },
  {
   "cell_type": "code",
   "execution_count": 16,
   "metadata": {},
   "outputs": [
    {
     "name": "stdout",
     "output_type": "stream",
     "text": [
      "[1469415.5496914  1468876.4345809  1469436.17746406 ... 1220841.4595399\n",
      " 1188204.16584634 1271454.73293579]\n"
     ]
    },
    {
     "data": {
      "text/plain": [
       "array([ 0.00000000e+00, -1.24383553e+02, -1.03824596e+02,  1.81182402e-03,\n",
       "        2.69092331e-02,  7.73051397e-04, -5.86816937e-09, -2.34549213e-07,\n",
       "       -1.03528334e-07, -1.15409160e-09])"
      ]
     },
     "execution_count": 16,
     "metadata": {},
     "output_type": "execute_result"
    }
   ],
   "source": [
    "poly=PolynomialFeatures(degree=3)\n",
    "x=poly.fit_transform(x_data)\n",
    "lr=LinearRegression()\n",
    "lr.fit(x,y_data)\n",
    "y_pred=lr.predict(x)\n",
    "print(y_pred)\n",
    "lr.coef_\n",
    "# mean_squared_error(y_data,y_pred,squared=False)"
   ]
  },
  {
   "cell_type": "code",
   "execution_count": null,
   "metadata": {},
   "outputs": [],
   "source": [
    "ax=plt.axes(projection=\"3d\")\n",
    "ax.scatter(x_data['bedrooms'],x_data['sqft'],y_data)"
   ]
  },
  {
   "cell_type": "code",
   "execution_count": null,
   "metadata": {},
   "outputs": [],
   "source": [
    "# number_degrees = [1,2,3,4,5,6,7]\n",
    "# plt_mean_squared_error = []\n",
    "# for degree in number_degrees:\n",
    "\n",
    "#    poly_model = PolynomialFeatures(degree=degree)\n",
    "  \n",
    "#    x= poly_model.fit_transform(x_data)\n",
    "#    poly_model.fit(x, y_data)\n",
    "  \n",
    "#    lr = LinearRegression()\n",
    "#    lr.fit(x, y_data)\n",
    "#    y_pred = lr.predict(x)\n",
    "  \n",
    "#    plt_mean_squared_error.append(mean_squared_error(y_data, y_pred, squared=False))\n",
    "  \n",
    "# plt.scatter(number_degrees,plt_mean_squared_error, color=\"green\")\n",
    "# plt.plot(number_degrees,plt_mean_squared_error, color=\"red\") "
   ]
  },
  {
   "cell_type": "code",
   "execution_count": null,
   "metadata": {},
   "outputs": [],
   "source": [
    "plt.scatter(y_pred,y_data)"
   ]
  },
  {
   "cell_type": "code",
   "execution_count": null,
   "metadata": {},
   "outputs": [],
   "source": [
    "i=pd.DataFrame({'pred':y_pred})\n",
    "print(i)"
   ]
  },
  {
   "cell_type": "code",
   "execution_count": 17,
   "metadata": {},
   "outputs": [
    {
     "name": "stdout",
     "output_type": "stream",
     "text": [
      "          actual     predicted    difference\n",
      "0      4100000.0  1.469416e+06 -2.630584e+06\n",
      "4       908000.0  1.468876e+06  5.608764e+05\n",
      "6      2600000.0  1.469436e+06 -1.130564e+06\n",
      "7      4050000.0  1.468980e+06 -2.581020e+06\n",
      "8      2400000.0  1.469498e+06 -9.305022e+05\n",
      "...          ...           ...           ...\n",
      "14727   765000.0  1.191137e+06  4.261365e+05\n",
      "14728   630000.0  1.163992e+06  5.339921e+05\n",
      "14729   998000.0  1.220841e+06  2.228415e+05\n",
      "14730   830000.0  1.188204e+06  3.582042e+05\n",
      "14732   629000.0  1.271455e+06  6.424547e+05\n",
      "\n",
      "[12012 rows x 3 columns]\n"
     ]
    }
   ],
   "source": [
    "v=pd.DataFrame({'actual':y_data,'predicted':y_pred,'difference':y_pred-y_data})\n",
    "print(v)"
   ]
  }
 ],
 "metadata": {
  "kernelspec": {
   "display_name": "Python 3",
   "language": "python",
   "name": "python3"
  },
  "language_info": {
   "codemirror_mode": {
    "name": "ipython",
    "version": 3
   },
   "file_extension": ".py",
   "mimetype": "text/x-python",
   "name": "python",
   "nbconvert_exporter": "python",
   "pygments_lexer": "ipython3",
   "version": "3.11.4"
  },
  "orig_nbformat": 4
 },
 "nbformat": 4,
 "nbformat_minor": 2
}
