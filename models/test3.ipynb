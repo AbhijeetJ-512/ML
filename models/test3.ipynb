{
 "cells": [
  {
   "cell_type": "markdown",
   "metadata": {},
   "source": [
    "Predicting prices\n"
   ]
  },
  {
   "cell_type": "code",
   "execution_count": 15,
   "metadata": {},
   "outputs": [],
   "source": [
    "import pandas as pd\n",
    "import numpy as np\n",
    "from sklearn.linear_model import LinearRegression\n",
    "from sklearn.preprocessing import PolynomialFeatures\n",
    "from sklearn.metrics import mean_squared_error\n",
    "import matplotlib.pyplot as plt\n",
    "from mpl_toolkits.mplot3d import Axes3D"
   ]
  },
  {
   "cell_type": "code",
   "execution_count": 16,
   "metadata": {},
   "outputs": [
    {
     "data": {
      "text/html": [
       "<div>\n",
       "<style scoped>\n",
       "    .dataframe tbody tr th:only-of-type {\n",
       "        vertical-align: middle;\n",
       "    }\n",
       "\n",
       "    .dataframe tbody tr th {\n",
       "        vertical-align: top;\n",
       "    }\n",
       "\n",
       "    .dataframe thead th {\n",
       "        text-align: right;\n",
       "    }\n",
       "</style>\n",
       "<table border=\"1\" class=\"dataframe\">\n",
       "  <thead>\n",
       "    <tr style=\"text-align: right;\">\n",
       "      <th></th>\n",
       "      <th>Unnamed: 0</th>\n",
       "      <th>price</th>\n",
       "      <th>bedrooms</th>\n",
       "      <th>bathrooms</th>\n",
       "      <th>sqft</th>\n",
       "      <th>neighborhood</th>\n",
       "      <th>status</th>\n",
       "      <th>address</th>\n",
       "    </tr>\n",
       "  </thead>\n",
       "  <tbody>\n",
       "    <tr>\n",
       "      <th>0</th>\n",
       "      <td>1</td>\n",
       "      <td>4100000.0</td>\n",
       "      <td>4</td>\n",
       "      <td>5</td>\n",
       "      <td>2940.0</td>\n",
       "      <td>Park Slope</td>\n",
       "      <td>sold</td>\n",
       "      <td>336A 4th St, Brooklyn, NY 11215</td>\n",
       "    </tr>\n",
       "    <tr>\n",
       "      <th>4</th>\n",
       "      <td>5</td>\n",
       "      <td>908000.0</td>\n",
       "      <td>0</td>\n",
       "      <td>1</td>\n",
       "      <td>1066.0</td>\n",
       "      <td>Park Slope</td>\n",
       "      <td>sold</td>\n",
       "      <td>397 1st St #4R, Brooklyn, NY 11215</td>\n",
       "    </tr>\n",
       "    <tr>\n",
       "      <th>6</th>\n",
       "      <td>7</td>\n",
       "      <td>2600000.0</td>\n",
       "      <td>5</td>\n",
       "      <td>4</td>\n",
       "      <td>3600.0</td>\n",
       "      <td>Park Slope</td>\n",
       "      <td>sold</td>\n",
       "      <td>645 Carroll St, Brooklyn, NY 11215</td>\n",
       "    </tr>\n",
       "    <tr>\n",
       "      <th>7</th>\n",
       "      <td>8</td>\n",
       "      <td>4050000.0</td>\n",
       "      <td>4</td>\n",
       "      <td>4</td>\n",
       "      <td>3600.0</td>\n",
       "      <td>Park Slope</td>\n",
       "      <td>sold</td>\n",
       "      <td>538 9th St #4, Brooklyn, NY 11215</td>\n",
       "    </tr>\n",
       "    <tr>\n",
       "      <th>8</th>\n",
       "      <td>9</td>\n",
       "      <td>2400000.0</td>\n",
       "      <td>3</td>\n",
       "      <td>3</td>\n",
       "      <td>1428.0</td>\n",
       "      <td>Park Slope</td>\n",
       "      <td>sold</td>\n",
       "      <td>910 Union St #7A, Brooklyn, NY 11215</td>\n",
       "    </tr>\n",
       "  </tbody>\n",
       "</table>\n",
       "</div>"
      ],
      "text/plain": [
       "   Unnamed: 0      price  bedrooms  bathrooms    sqft neighborhood status  \\\n",
       "0           1  4100000.0         4          5  2940.0   Park Slope   sold   \n",
       "4           5   908000.0         0          1  1066.0   Park Slope   sold   \n",
       "6           7  2600000.0         5          4  3600.0   Park Slope   sold   \n",
       "7           8  4050000.0         4          4  3600.0   Park Slope   sold   \n",
       "8           9  2400000.0         3          3  1428.0   Park Slope   sold   \n",
       "\n",
       "                                address  \n",
       "0       336A 4th St, Brooklyn, NY 11215  \n",
       "4    397 1st St #4R, Brooklyn, NY 11215  \n",
       "6    645 Carroll St, Brooklyn, NY 11215  \n",
       "7     538 9th St #4, Brooklyn, NY 11215  \n",
       "8  910 Union St #7A, Brooklyn, NY 11215  "
      ]
     },
     "execution_count": 16,
     "metadata": {},
     "output_type": "execute_result"
    }
   ],
   "source": [
    "path=\"data/brooklyn_listings.csv\"\n",
    "df=pd.read_csv(path)\n",
    "df=df.dropna()\n",
    "df.head()\n",
    "#print(df.to_string())"
   ]
  },
  {
   "cell_type": "code",
   "execution_count": 17,
   "metadata": {},
   "outputs": [
    {
     "name": "stdout",
     "output_type": "stream",
     "text": [
      "       bedrooms    sqft\n",
      "0             4  2940.0\n",
      "4             0  1066.0\n",
      "6             5  3600.0\n",
      "7             4  3600.0\n",
      "8             3  1428.0\n",
      "...         ...     ...\n",
      "14727         2   867.0\n",
      "14728         0  1492.0\n",
      "14729         4  1584.0\n",
      "14730         0   564.0\n",
      "14732         3  1470.0\n",
      "\n",
      "[12012 rows x 2 columns]\n",
      "0        4100000.0\n",
      "4         908000.0\n",
      "6        2600000.0\n",
      "7        4050000.0\n",
      "8        2400000.0\n",
      "           ...    \n",
      "14727     765000.0\n",
      "14728     630000.0\n",
      "14729     998000.0\n",
      "14730     830000.0\n",
      "14732     629000.0\n",
      "Name: price, Length: 12012, dtype: float64\n"
     ]
    }
   ],
   "source": [
    "x_data=df[['bedrooms','sqft']]\n",
    "print(x_data)\n",
    "y_data=df['price']\n",
    "print(y_data)"
   ]
  },
  {
   "cell_type": "code",
   "execution_count": 19,
   "metadata": {},
   "outputs": [
    {
     "name": "stdout",
     "output_type": "stream",
     "text": [
      "[[1.00000000e+00 4.00000000e+00 2.94000000e+03 ... 4.70400000e+04\n",
      "  3.45744000e+07 2.54121840e+10]\n",
      " [1.00000000e+00 0.00000000e+00 1.06600000e+03 ... 0.00000000e+00\n",
      "  0.00000000e+00 1.21135550e+09]\n",
      " [1.00000000e+00 5.00000000e+00 3.60000000e+03 ... 9.00000000e+04\n",
      "  6.48000000e+07 4.66560000e+10]\n",
      " ...\n",
      " [1.00000000e+00 4.00000000e+00 1.58400000e+03 ... 2.53440000e+04\n",
      "  1.00362240e+07 3.97434470e+09]\n",
      " [1.00000000e+00 0.00000000e+00 5.64000000e+02 ... 0.00000000e+00\n",
      "  0.00000000e+00 1.79406144e+08]\n",
      " [1.00000000e+00 3.00000000e+00 1.47000000e+03 ... 1.32300000e+04\n",
      "  6.48270000e+06 3.17652300e+09]]\n",
      "[1786008.28245899  793177.95766843 2095452.2370135  ... 1260894.18431043\n",
      "  635101.38583049 1176275.61738971]\n"
     ]
    },
    {
     "data": {
      "text/plain": [
       "array([ 0.00000000e+00,  8.99311738e+04,  3.20238588e+02, -1.23038212e+04,\n",
       "        2.22097670e+01, -3.28650367e-03,  2.01576310e+02, -3.79347808e-01,\n",
       "       -5.41454071e-05,  5.82882769e-09])"
      ]
     },
     "execution_count": 19,
     "metadata": {},
     "output_type": "execute_result"
    }
   ],
   "source": [
    "poly=PolynomialFeatures(degree=3)\n",
    "x=poly.fit_transform(x_data)\n",
    "lr=LinearRegression()\n",
    "lr.fit(x,y_data)\n",
    "y_pred=lr.predict(x)\n",
    "print(y_pred)\n",
    "lr.coef_\n",
    "# mean_squared_error(y_data,y_pred,squared=False)"
   ]
  },
  {
   "cell_type": "code",
   "execution_count": null,
   "metadata": {},
   "outputs": [],
   "source": [
    "ax=plt.axes(projection=\"3d\")\n",
    "ax.scatter(x_data['bedrooms'],x_data['sqft'],y_data)"
   ]
  },
  {
   "cell_type": "code",
   "execution_count": null,
   "metadata": {},
   "outputs": [],
   "source": [
    "number_degrees = [1,2,3,4,5,6,7]\n",
    "plt_mean_squared_error = []\n",
    "for degree in number_degrees:\n",
    "\n",
    "   poly_model = PolynomialFeatures(degree=degree)\n",
    "  \n",
    "   x= poly_model.fit_transform(x_data)\n",
    "   poly_model.fit(x, y_data)\n",
    "  \n",
    "   lr = LinearRegression()\n",
    "   lr.fit(x, y_data)\n",
    "   y_pred = lr.predict(x)\n",
    "  \n",
    "   plt_mean_squared_error.append(mean_squared_error(y_data, y_pred, squared=False))\n",
    "  \n",
    "plt.scatter(number_degrees,plt_mean_squared_error, color=\"green\")\n",
    "plt.plot(number_degrees,plt_mean_squared_error, color=\"red\") "
   ]
  },
  {
   "cell_type": "code",
   "execution_count": null,
   "metadata": {},
   "outputs": [],
   "source": [
    "plt.scatter(y_pred,y_data)"
   ]
  },
  {
   "cell_type": "code",
   "execution_count": null,
   "metadata": {},
   "outputs": [],
   "source": [
    "i=pd.DataFrame({'pred':y_pred})\n",
    "print(i)"
   ]
  },
  {
   "cell_type": "code",
   "execution_count": null,
   "metadata": {},
   "outputs": [],
   "source": [
    "v=pd.DataFrame({'actual':y_data,'predicted':y_pred,'difference':y_pred-y_data})\n",
    "print(v)"
   ]
  }
 ],
 "metadata": {
  "kernelspec": {
   "display_name": "Python 3",
   "language": "python",
   "name": "python3"
  },
  "language_info": {
   "codemirror_mode": {
    "name": "ipython",
    "version": 3
   },
   "file_extension": ".py",
   "mimetype": "text/x-python",
   "name": "python",
   "nbconvert_exporter": "python",
   "pygments_lexer": "ipython3",
   "version": "3.11.4"
  },
  "orig_nbformat": 4
 },
 "nbformat": 4,
 "nbformat_minor": 2
}
