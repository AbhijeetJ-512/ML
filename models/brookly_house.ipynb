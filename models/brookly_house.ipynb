{
 "cells": [
  {
   "cell_type": "code",
   "execution_count": 63,
   "metadata": {},
   "outputs": [],
   "source": [
    "import numpy as np\n",
    "import pandas as pd\n",
    "from sklearn.preprocessing import PolynomialFeatures\n",
    "from sklearn.linear_model import LinearRegression"
   ]
  },
  {
   "cell_type": "code",
   "execution_count": 64,
   "metadata": {},
   "outputs": [
    {
     "data": {
      "text/html": [
       "<div>\n",
       "<style scoped>\n",
       "    .dataframe tbody tr th:only-of-type {\n",
       "        vertical-align: middle;\n",
       "    }\n",
       "\n",
       "    .dataframe tbody tr th {\n",
       "        vertical-align: top;\n",
       "    }\n",
       "\n",
       "    .dataframe thead th {\n",
       "        text-align: right;\n",
       "    }\n",
       "</style>\n",
       "<table border=\"1\" class=\"dataframe\">\n",
       "  <thead>\n",
       "    <tr style=\"text-align: right;\">\n",
       "      <th></th>\n",
       "      <th>Unnamed: 0</th>\n",
       "      <th>price</th>\n",
       "      <th>bedrooms</th>\n",
       "      <th>bathrooms</th>\n",
       "      <th>sqft</th>\n",
       "      <th>neighborhood</th>\n",
       "      <th>status</th>\n",
       "      <th>address</th>\n",
       "    </tr>\n",
       "  </thead>\n",
       "  <tbody>\n",
       "    <tr>\n",
       "      <th>0</th>\n",
       "      <td>1</td>\n",
       "      <td>4100000.0</td>\n",
       "      <td>4</td>\n",
       "      <td>5</td>\n",
       "      <td>2940.0</td>\n",
       "      <td>Park Slope</td>\n",
       "      <td>sold</td>\n",
       "      <td>336A 4th St, Brooklyn, NY 11215</td>\n",
       "    </tr>\n",
       "    <tr>\n",
       "      <th>1</th>\n",
       "      <td>2</td>\n",
       "      <td>1020000.0</td>\n",
       "      <td>3</td>\n",
       "      <td>1</td>\n",
       "      <td>NaN</td>\n",
       "      <td>Park Slope</td>\n",
       "      <td>sold</td>\n",
       "      <td>411 15th St #K, Brooklyn, NY 11215</td>\n",
       "    </tr>\n",
       "    <tr>\n",
       "      <th>2</th>\n",
       "      <td>3</td>\n",
       "      <td>45000.0</td>\n",
       "      <td>0</td>\n",
       "      <td>1</td>\n",
       "      <td>NaN</td>\n",
       "      <td>Park Slope</td>\n",
       "      <td>sold</td>\n",
       "      <td>65 Saint Johns Pl #D, Brooklyn, NY 11217</td>\n",
       "    </tr>\n",
       "    <tr>\n",
       "      <th>3</th>\n",
       "      <td>4</td>\n",
       "      <td>45000.0</td>\n",
       "      <td>0</td>\n",
       "      <td>1</td>\n",
       "      <td>NaN</td>\n",
       "      <td>Park Slope</td>\n",
       "      <td>sold</td>\n",
       "      <td>65 Saint Johns Pl #E, Brooklyn, NY 11217</td>\n",
       "    </tr>\n",
       "    <tr>\n",
       "      <th>4</th>\n",
       "      <td>5</td>\n",
       "      <td>908000.0</td>\n",
       "      <td>0</td>\n",
       "      <td>1</td>\n",
       "      <td>1066.0</td>\n",
       "      <td>Park Slope</td>\n",
       "      <td>sold</td>\n",
       "      <td>397 1st St #4R, Brooklyn, NY 11215</td>\n",
       "    </tr>\n",
       "    <tr>\n",
       "      <th>...</th>\n",
       "      <td>...</td>\n",
       "      <td>...</td>\n",
       "      <td>...</td>\n",
       "      <td>...</td>\n",
       "      <td>...</td>\n",
       "      <td>...</td>\n",
       "      <td>...</td>\n",
       "      <td>...</td>\n",
       "    </tr>\n",
       "    <tr>\n",
       "      <th>14728</th>\n",
       "      <td>14620</td>\n",
       "      <td>630000.0</td>\n",
       "      <td>0</td>\n",
       "      <td>1</td>\n",
       "      <td>1492.0</td>\n",
       "      <td>Wingate</td>\n",
       "      <td>listed</td>\n",
       "      <td>770A Lefferts Ave #4L, Brooklyn, NY 11203</td>\n",
       "    </tr>\n",
       "    <tr>\n",
       "      <th>14729</th>\n",
       "      <td>14720</td>\n",
       "      <td>998000.0</td>\n",
       "      <td>4</td>\n",
       "      <td>2</td>\n",
       "      <td>1584.0</td>\n",
       "      <td>Wingate</td>\n",
       "      <td>listed</td>\n",
       "      <td>575 E New York Ave #A, Brooklyn, NY 11225</td>\n",
       "    </tr>\n",
       "    <tr>\n",
       "      <th>14730</th>\n",
       "      <td>14820</td>\n",
       "      <td>830000.0</td>\n",
       "      <td>0</td>\n",
       "      <td>1</td>\n",
       "      <td>564.0</td>\n",
       "      <td>Wingate</td>\n",
       "      <td>listed</td>\n",
       "      <td>833 Maple St, Brooklyn, NY 11203</td>\n",
       "    </tr>\n",
       "    <tr>\n",
       "      <th>14731</th>\n",
       "      <td>14920</td>\n",
       "      <td>240000.0</td>\n",
       "      <td>0</td>\n",
       "      <td>1</td>\n",
       "      <td>NaN</td>\n",
       "      <td>Wingate</td>\n",
       "      <td>listed</td>\n",
       "      <td>446 Kingston Ave #C20, Brooklyn, NY 11225</td>\n",
       "    </tr>\n",
       "    <tr>\n",
       "      <th>14732</th>\n",
       "      <td>15020</td>\n",
       "      <td>629000.0</td>\n",
       "      <td>3</td>\n",
       "      <td>2</td>\n",
       "      <td>1470.0</td>\n",
       "      <td>Wingate</td>\n",
       "      <td>listed</td>\n",
       "      <td>163 E 46th St, Brooklyn, NY 11203</td>\n",
       "    </tr>\n",
       "  </tbody>\n",
       "</table>\n",
       "<p>14733 rows × 8 columns</p>\n",
       "</div>"
      ],
      "text/plain": [
       "       Unnamed: 0      price  bedrooms  bathrooms    sqft neighborhood  \\\n",
       "0               1  4100000.0         4          5  2940.0   Park Slope   \n",
       "1               2  1020000.0         3          1     NaN   Park Slope   \n",
       "2               3    45000.0         0          1     NaN   Park Slope   \n",
       "3               4    45000.0         0          1     NaN   Park Slope   \n",
       "4               5   908000.0         0          1  1066.0   Park Slope   \n",
       "...           ...        ...       ...        ...     ...          ...   \n",
       "14728       14620   630000.0         0          1  1492.0      Wingate   \n",
       "14729       14720   998000.0         4          2  1584.0      Wingate   \n",
       "14730       14820   830000.0         0          1   564.0      Wingate   \n",
       "14731       14920   240000.0         0          1     NaN      Wingate   \n",
       "14732       15020   629000.0         3          2  1470.0      Wingate   \n",
       "\n",
       "       status                                    address  \n",
       "0        sold            336A 4th St, Brooklyn, NY 11215  \n",
       "1        sold         411 15th St #K, Brooklyn, NY 11215  \n",
       "2        sold   65 Saint Johns Pl #D, Brooklyn, NY 11217  \n",
       "3        sold   65 Saint Johns Pl #E, Brooklyn, NY 11217  \n",
       "4        sold         397 1st St #4R, Brooklyn, NY 11215  \n",
       "...       ...                                        ...  \n",
       "14728  listed  770A Lefferts Ave #4L, Brooklyn, NY 11203  \n",
       "14729  listed  575 E New York Ave #A, Brooklyn, NY 11225  \n",
       "14730  listed           833 Maple St, Brooklyn, NY 11203  \n",
       "14731  listed  446 Kingston Ave #C20, Brooklyn, NY 11225  \n",
       "14732  listed          163 E 46th St, Brooklyn, NY 11203  \n",
       "\n",
       "[14733 rows x 8 columns]"
      ]
     },
     "execution_count": 64,
     "metadata": {},
     "output_type": "execute_result"
    }
   ],
   "source": [
    "path = \"data/brooklyn_listings.csv\"\n",
    "data = pd.read_csv(path)\n",
    "data"
   ]
  },
  {
   "cell_type": "code",
   "execution_count": 65,
   "metadata": {},
   "outputs": [
    {
     "name": "stdout",
     "output_type": "stream",
     "text": [
      "<class 'pandas.core.frame.DataFrame'>\n",
      "RangeIndex: 14733 entries, 0 to 14732\n",
      "Data columns (total 8 columns):\n",
      " #   Column        Non-Null Count  Dtype  \n",
      "---  ------        --------------  -----  \n",
      " 0   Unnamed: 0    14733 non-null  int64  \n",
      " 1   price         14732 non-null  float64\n",
      " 2   bedrooms      14733 non-null  int64  \n",
      " 3   bathrooms     14733 non-null  int64  \n",
      " 4   sqft          12013 non-null  float64\n",
      " 5   neighborhood  14733 non-null  object \n",
      " 6   status        14733 non-null  object \n",
      " 7   address       14733 non-null  object \n",
      "dtypes: float64(2), int64(3), object(3)\n",
      "memory usage: 920.9+ KB\n",
      "<class 'pandas.core.frame.DataFrame'>\n",
      "Index: 12012 entries, 0 to 14732\n",
      "Data columns (total 8 columns):\n",
      " #   Column        Non-Null Count  Dtype  \n",
      "---  ------        --------------  -----  \n",
      " 0   Unnamed: 0    12012 non-null  int64  \n",
      " 1   price         12012 non-null  float64\n",
      " 2   bedrooms      12012 non-null  int64  \n",
      " 3   bathrooms     12012 non-null  int64  \n",
      " 4   sqft          12012 non-null  float64\n",
      " 5   neighborhood  12012 non-null  object \n",
      " 6   status        12012 non-null  object \n",
      " 7   address       12012 non-null  object \n",
      "dtypes: float64(2), int64(3), object(3)\n",
      "memory usage: 844.6+ KB\n"
     ]
    }
   ],
   "source": [
    "data.info()\n",
    "data.dropna(inplace=True)\n",
    "data.info()"
   ]
  },
  {
   "cell_type": "code",
   "execution_count": 66,
   "metadata": {},
   "outputs": [
    {
     "name": "stdout",
     "output_type": "stream",
     "text": [
      "(12012, 2)\n",
      "(12012,)\n"
     ]
    }
   ],
   "source": [
    "x_data = data[['bedrooms','sqft']].to_numpy().reshape(-1,2)\n",
    "y_data = data['price'].to_numpy()\n",
    "print(x_data.shape)\n",
    "print(y_data.shape)"
   ]
  },
  {
   "cell_type": "code",
   "execution_count": 67,
   "metadata": {},
   "outputs": [],
   "source": [
    "poly = PolynomialFeatures(degree=5)\n",
    "x_data = poly.fit_transform(x_data)"
   ]
  },
  {
   "cell_type": "code",
   "execution_count": 68,
   "metadata": {},
   "outputs": [
    {
     "data": {
      "text/html": [
       "<style>#sk-container-id-6 {color: black;}#sk-container-id-6 pre{padding: 0;}#sk-container-id-6 div.sk-toggleable {background-color: white;}#sk-container-id-6 label.sk-toggleable__label {cursor: pointer;display: block;width: 100%;margin-bottom: 0;padding: 0.3em;box-sizing: border-box;text-align: center;}#sk-container-id-6 label.sk-toggleable__label-arrow:before {content: \"▸\";float: left;margin-right: 0.25em;color: #696969;}#sk-container-id-6 label.sk-toggleable__label-arrow:hover:before {color: black;}#sk-container-id-6 div.sk-estimator:hover label.sk-toggleable__label-arrow:before {color: black;}#sk-container-id-6 div.sk-toggleable__content {max-height: 0;max-width: 0;overflow: hidden;text-align: left;background-color: #f0f8ff;}#sk-container-id-6 div.sk-toggleable__content pre {margin: 0.2em;color: black;border-radius: 0.25em;background-color: #f0f8ff;}#sk-container-id-6 input.sk-toggleable__control:checked~div.sk-toggleable__content {max-height: 200px;max-width: 100%;overflow: auto;}#sk-container-id-6 input.sk-toggleable__control:checked~label.sk-toggleable__label-arrow:before {content: \"▾\";}#sk-container-id-6 div.sk-estimator input.sk-toggleable__control:checked~label.sk-toggleable__label {background-color: #d4ebff;}#sk-container-id-6 div.sk-label input.sk-toggleable__control:checked~label.sk-toggleable__label {background-color: #d4ebff;}#sk-container-id-6 input.sk-hidden--visually {border: 0;clip: rect(1px 1px 1px 1px);clip: rect(1px, 1px, 1px, 1px);height: 1px;margin: -1px;overflow: hidden;padding: 0;position: absolute;width: 1px;}#sk-container-id-6 div.sk-estimator {font-family: monospace;background-color: #f0f8ff;border: 1px dotted black;border-radius: 0.25em;box-sizing: border-box;margin-bottom: 0.5em;}#sk-container-id-6 div.sk-estimator:hover {background-color: #d4ebff;}#sk-container-id-6 div.sk-parallel-item::after {content: \"\";width: 100%;border-bottom: 1px solid gray;flex-grow: 1;}#sk-container-id-6 div.sk-label:hover label.sk-toggleable__label {background-color: #d4ebff;}#sk-container-id-6 div.sk-serial::before {content: \"\";position: absolute;border-left: 1px solid gray;box-sizing: border-box;top: 0;bottom: 0;left: 50%;z-index: 0;}#sk-container-id-6 div.sk-serial {display: flex;flex-direction: column;align-items: center;background-color: white;padding-right: 0.2em;padding-left: 0.2em;position: relative;}#sk-container-id-6 div.sk-item {position: relative;z-index: 1;}#sk-container-id-6 div.sk-parallel {display: flex;align-items: stretch;justify-content: center;background-color: white;position: relative;}#sk-container-id-6 div.sk-item::before, #sk-container-id-6 div.sk-parallel-item::before {content: \"\";position: absolute;border-left: 1px solid gray;box-sizing: border-box;top: 0;bottom: 0;left: 50%;z-index: -1;}#sk-container-id-6 div.sk-parallel-item {display: flex;flex-direction: column;z-index: 1;position: relative;background-color: white;}#sk-container-id-6 div.sk-parallel-item:first-child::after {align-self: flex-end;width: 50%;}#sk-container-id-6 div.sk-parallel-item:last-child::after {align-self: flex-start;width: 50%;}#sk-container-id-6 div.sk-parallel-item:only-child::after {width: 0;}#sk-container-id-6 div.sk-dashed-wrapped {border: 1px dashed gray;margin: 0 0.4em 0.5em 0.4em;box-sizing: border-box;padding-bottom: 0.4em;background-color: white;}#sk-container-id-6 div.sk-label label {font-family: monospace;font-weight: bold;display: inline-block;line-height: 1.2em;}#sk-container-id-6 div.sk-label-container {text-align: center;}#sk-container-id-6 div.sk-container {/* jupyter's `normalize.less` sets `[hidden] { display: none; }` but bootstrap.min.css set `[hidden] { display: none !important; }` so we also need the `!important` here to be able to override the default hidden behavior on the sphinx rendered scikit-learn.org. See: https://github.com/scikit-learn/scikit-learn/issues/21755 */display: inline-block !important;position: relative;}#sk-container-id-6 div.sk-text-repr-fallback {display: none;}</style><div id=\"sk-container-id-6\" class=\"sk-top-container\"><div class=\"sk-text-repr-fallback\"><pre>LinearRegression()</pre><b>In a Jupyter environment, please rerun this cell to show the HTML representation or trust the notebook. <br />On GitHub, the HTML representation is unable to render, please try loading this page with nbviewer.org.</b></div><div class=\"sk-container\" hidden><div class=\"sk-item\"><div class=\"sk-estimator sk-toggleable\"><input class=\"sk-toggleable__control sk-hidden--visually\" id=\"sk-estimator-id-6\" type=\"checkbox\" checked><label for=\"sk-estimator-id-6\" class=\"sk-toggleable__label sk-toggleable__label-arrow\">LinearRegression</label><div class=\"sk-toggleable__content\"><pre>LinearRegression()</pre></div></div></div></div></div>"
      ],
      "text/plain": [
       "LinearRegression()"
      ]
     },
     "execution_count": 68,
     "metadata": {},
     "output_type": "execute_result"
    }
   ],
   "source": [
    "model = LinearRegression()\n",
    "model.fit(x_data,y_data)"
   ]
  },
  {
   "cell_type": "code",
   "execution_count": 69,
   "metadata": {},
   "outputs": [
    {
     "name": "stdout",
     "output_type": "stream",
     "text": [
      "[1299488.14847053 1298268.99248331 1300786.01575489 ... 1298446.47451498\n",
      " 1298240.35777455 1298379.56557542]\n"
     ]
    }
   ],
   "source": [
    "predict = model.predict(x_data)\n",
    "print(predict)"
   ]
  },
  {
   "cell_type": "code",
   "execution_count": 70,
   "metadata": {},
   "outputs": [
    {
     "name": "stdout",
     "output_type": "stream",
     "text": [
      "          actual     predicted    difference\n",
      "0      4100000.0  1.299488e+06 -2.800512e+06\n",
      "1       908000.0  1.298269e+06  3.902690e+05\n",
      "2      2600000.0  1.300786e+06 -1.299214e+06\n",
      "3      4050000.0  1.300491e+06 -2.749509e+06\n",
      "4      2400000.0  1.298368e+06 -1.101632e+06\n",
      "...          ...           ...           ...\n",
      "12007   765000.0  1.298261e+06  5.332612e+05\n",
      "12008   630000.0  1.298327e+06  6.683272e+05\n",
      "12009   998000.0  1.298446e+06  3.004465e+05\n",
      "12010   830000.0  1.298240e+06  4.682404e+05\n",
      "12011   629000.0  1.298380e+06  6.693796e+05\n",
      "\n",
      "[12012 rows x 3 columns]\n"
     ]
    }
   ],
   "source": [
    "final_data=pd.DataFrame({'actual':y_data,'predicted':predict,'difference':predict-y_data})\n",
    "print(final_data)"
   ]
  },
  {
   "cell_type": "code",
   "execution_count": 71,
   "metadata": {},
   "outputs": [
    {
     "data": {
      "text/plain": [
       "0.015927360268270463"
      ]
     },
     "execution_count": 71,
     "metadata": {},
     "output_type": "execute_result"
    }
   ],
   "source": [
    "model.score(x_data,y_data)"
   ]
  }
 ],
 "metadata": {
  "kernelspec": {
   "display_name": "jupyter",
   "language": "python",
   "name": "python3"
  },
  "language_info": {
   "codemirror_mode": {
    "name": "ipython",
    "version": 3
   },
   "file_extension": ".py",
   "mimetype": "text/x-python",
   "name": "python",
   "nbconvert_exporter": "python",
   "pygments_lexer": "ipython3",
   "version": "3.11.4"
  },
  "orig_nbformat": 4
 },
 "nbformat": 4,
 "nbformat_minor": 2
}
